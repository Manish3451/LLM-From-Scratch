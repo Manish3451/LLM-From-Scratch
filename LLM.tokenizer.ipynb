{
 "cells": [
  {
   "cell_type": "code",
   "execution_count": 36,
   "id": "fa6ddc91",
   "metadata": {},
   "outputs": [
    {
     "name": "stdout",
     "output_type": "stream",
     "text": [
      "Total number of characters: 20479\n",
      "I HAD always thought Jack Gisburn rather a cheap genius--though a good fellow enough--so it was no \n"
     ]
    }
   ],
   "source": [
    "with open(\"verdict.txt\", \"r\", encoding=\"utf-8\") as f :\n",
    "    raw_text = f.read()\n",
    "\n",
    "print(\"Total number of characters:\", len(raw_text))\n",
    "print(raw_text[:99])"
   ]
  },
  {
   "cell_type": "code",
   "execution_count": 37,
   "id": "ae9214c1",
   "metadata": {},
   "outputs": [
    {
     "name": "stdout",
     "output_type": "stream",
     "text": [
      "['Hello,', ' ', 'world.', ' ', 'This,', ' ', 'is', ' ', 'a', ' ', 'test.']\n"
     ]
    }
   ],
   "source": [
    "import re\n",
    "\n",
    "text = \"Hello, world. This, is a test.\"\n",
    "result = re.split(r'(\\s)', text)\n",
    "\n",
    "print(result)"
   ]
  },
  {
   "cell_type": "code",
   "execution_count": 38,
   "id": "60db45af",
   "metadata": {},
   "outputs": [
    {
     "name": "stdout",
     "output_type": "stream",
     "text": [
      "['Hello', ',', '', ' ', 'world', '.', '', ' ', 'This', ',', '', ' ', 'is', ' ', 'a', ' ', 'test', '.', '']\n"
     ]
    }
   ],
   "source": [
    "result = re.split(r'([,.]|\\s)', text)\n",
    "\n",
    "print(result)"
   ]
  },
  {
   "cell_type": "code",
   "execution_count": 39,
   "id": "72057620",
   "metadata": {},
   "outputs": [
    {
     "name": "stdout",
     "output_type": "stream",
     "text": [
      "['Hello', ',', 'world', '.', 'This', ',', 'is', 'a', 'test', '.']\n"
     ]
    }
   ],
   "source": [
    "result = [item for item in result if item.strip()]\n",
    "print(result)"
   ]
  },
  {
   "cell_type": "code",
   "execution_count": 40,
   "id": "61c558de",
   "metadata": {},
   "outputs": [
    {
     "name": "stdout",
     "output_type": "stream",
     "text": [
      "['Hello', ',', 'world', '.', 'Is', 'this', '--', 'a', 'test', '?']\n"
     ]
    }
   ],
   "source": [
    "text = \"Hello, world. Is this-- a test?\"\n",
    "\n",
    "result = re.split(r'([,.:;?__!\"()\\']|--|\\s)', text)\n",
    "\n",
    "result = [item.strip() for item in result if item.strip()]\n",
    "\n",
    "print(result)"
   ]
  },
  {
   "cell_type": "code",
   "execution_count": 41,
   "id": "b43e6564",
   "metadata": {},
   "outputs": [
    {
     "name": "stdout",
     "output_type": "stream",
     "text": [
      "['I', 'HAD', 'always', 'thought', 'Jack', 'Gisburn', 'rather', 'a', 'cheap', 'genius', '--', 'though', 'a', 'good', 'fellow', 'enough', '--', 'so', 'it', 'was', 'no', 'great', 'surprise', 'to', 'me', 'to', 'hear', 'that', ',', 'in']\n"
     ]
    }
   ],
   "source": [
    "preprocessed =  re.split(r'([,.:;?__!\"()\\']|--|\\s)', raw_text)\n",
    "preprocessed = [item.strip() for item in preprocessed if item.strip()]\n",
    "\n",
    "print(preprocessed[:30])"
   ]
  },
  {
   "cell_type": "code",
   "execution_count": 42,
   "id": "555457a7",
   "metadata": {},
   "outputs": [
    {
     "name": "stdout",
     "output_type": "stream",
     "text": [
      "4690\n"
     ]
    }
   ],
   "source": [
    "print(len(preprocessed))"
   ]
  },
  {
   "cell_type": "code",
   "execution_count": 43,
   "id": "1123c1e0",
   "metadata": {},
   "outputs": [
    {
     "name": "stdout",
     "output_type": "stream",
     "text": [
      "1130\n"
     ]
    }
   ],
   "source": [
    "all_words = sorted(set(preprocessed))\n",
    "vocab_size = len(all_words)\n",
    "\n",
    "print(vocab_size)"
   ]
  },
  {
   "cell_type": "code",
   "execution_count": 44,
   "id": "8bd80015",
   "metadata": {},
   "outputs": [],
   "source": [
    "vocab = {token:integer for integer,token in enumerate(all_words)}"
   ]
  },
  {
   "cell_type": "code",
   "execution_count": 45,
   "id": "02fbc8fb",
   "metadata": {},
   "outputs": [
    {
     "name": "stdout",
     "output_type": "stream",
     "text": [
      "0 ('!', 0)\n",
      "1 ('\"', 1)\n",
      "2 (\"'\", 2)\n",
      "3 ('(', 3)\n",
      "4 (')', 4)\n",
      "5 (',', 5)\n",
      "6 ('--', 6)\n",
      "7 ('.', 7)\n",
      "8 (':', 8)\n",
      "9 (';', 9)\n",
      "10 ('?', 10)\n",
      "11 ('A', 11)\n",
      "12 ('Ah', 12)\n",
      "13 ('Among', 13)\n",
      "14 ('And', 14)\n",
      "15 ('Are', 15)\n",
      "16 ('Arrt', 16)\n",
      "17 ('As', 17)\n",
      "18 ('At', 18)\n",
      "19 ('Be', 19)\n",
      "20 ('Begin', 20)\n",
      "21 ('Burlington', 21)\n",
      "22 ('But', 22)\n",
      "23 ('By', 23)\n",
      "24 ('Carlo', 24)\n",
      "25 ('Chicago', 25)\n",
      "26 ('Claude', 26)\n",
      "27 ('Come', 27)\n",
      "28 ('Croft', 28)\n",
      "29 ('Destroyed', 29)\n",
      "30 ('Devonshire', 30)\n",
      "31 ('Don', 31)\n",
      "32 ('Dubarry', 32)\n",
      "33 ('Emperors', 33)\n",
      "34 ('Florence', 34)\n",
      "35 ('For', 35)\n",
      "36 ('Gallery', 36)\n",
      "37 ('Gideon', 37)\n",
      "38 ('Gisburn', 38)\n",
      "39 ('Gisburns', 39)\n",
      "40 ('Grafton', 40)\n",
      "41 ('Greek', 41)\n",
      "42 ('Grindle', 42)\n",
      "43 ('Grindles', 43)\n",
      "44 ('HAD', 44)\n",
      "45 ('Had', 45)\n",
      "46 ('Hang', 46)\n",
      "47 ('Has', 47)\n",
      "48 ('He', 48)\n",
      "49 ('Her', 49)\n",
      "50 ('Hermia', 50)\n"
     ]
    }
   ],
   "source": [
    "for i, item in enumerate(vocab.items()):\n",
    "    print(i, item)\n",
    "    if i >= 50:\n",
    "        break"
   ]
  },
  {
   "cell_type": "code",
   "execution_count": 46,
   "metadata": {},
   "outputs": [],
   "source": [
    "class SimpleTokenizerV1:\n",
    "    def __init__(self, vocab):\n",
    "        self.str_to_int = vocab\n",
    "        self.int_to_str = {i:s for s, i in vocab.items()}\n",
    "\n",
    "    def encode(self, text):\n",
    "        preprocessed = re.split(r'([,.:;?__!\"()\\']|--|\\s)', text)\n",
    "\n",
    "        preprocessed = [item.strip() for item in preprocessed if item.strip()]\n",
    "\n",
    "        ids = [self.str_to_int[s] for s in preprocessed]\n",
    "\n",
    "        return ids \n",
    "\n",
    "    def decode(self, ids):\n",
    "        text = \" \".join([self.int_to_str[i] for i in ids])\n",
    "        text = re.sub(r'\\s([,.?!\"()\\'])', r'\\1', text)\n",
    "\n",
    "        return text"
   ]
  },
  {
   "cell_type": "code",
   "execution_count": 47,
   "id": "314fb6dc",
   "metadata": {},
   "outputs": [
    {
     "name": "stdout",
     "output_type": "stream",
     "text": [
      "[1, 56, 2, 850, 988, 602, 533, 746, 5, 1126, 596, 5, 1, 67, 7, 38, 851, 1108, 754, 793, 7]\n"
     ]
    }
   ],
   "source": [
    "tokenizer = SimpleTokenizerV1(vocab)\n",
    "\n",
    "text = \"\"\"\"It's the last he painted, you know,\" \n",
    "           Mrs. Gisburn said with pardonable pride.\"\"\"\n",
    "ids = tokenizer.encode(text)\n",
    "print(ids)"
   ]
  },
  {
   "cell_type": "code",
   "execution_count": 48,
   "id": "ca37f40c",
   "metadata": {},
   "outputs": [
    {
     "data": {
      "text/plain": [
       "'\" It\\' s the last he painted, you know,\" Mrs. Gisburn said with pardonable pride.'"
      ]
     },
     "execution_count": 48,
     "metadata": {},
     "output_type": "execute_result"
    }
   ],
   "source": [
    "tokenizer.decode(ids)\n"
   ]
  },
  {
   "cell_type": "code",
   "execution_count": 49,
   "id": "b3386e5b",
   "metadata": {},
   "outputs": [
    {
     "ename": "KeyError",
     "evalue": "'Hello'",
     "output_type": "error",
     "traceback": [
      "\u001b[31m---------------------------------------------------------------------------\u001b[39m",
      "\u001b[31mKeyError\u001b[39m                                  Traceback (most recent call last)",
      "\u001b[36mCell\u001b[39m\u001b[36m \u001b[39m\u001b[32mIn[49]\u001b[39m\u001b[32m, line 2\u001b[39m\n\u001b[32m      1\u001b[39m text = \u001b[33m\"\u001b[39m\u001b[33mHello, do you like tea?\u001b[39m\u001b[33m\"\u001b[39m\n\u001b[32m----> \u001b[39m\u001b[32m2\u001b[39m \u001b[38;5;28mprint\u001b[39m(\u001b[43mtokenizer\u001b[49m\u001b[43m.\u001b[49m\u001b[43mencode\u001b[49m\u001b[43m(\u001b[49m\u001b[43mtext\u001b[49m\u001b[43m)\u001b[49m)\n",
      "\u001b[36mCell\u001b[39m\u001b[36m \u001b[39m\u001b[32mIn[46]\u001b[39m\u001b[32m, line 11\u001b[39m, in \u001b[36mSimpleTokenizerV1.encode\u001b[39m\u001b[34m(self, text)\u001b[39m\n\u001b[32m      7\u001b[39m preprocessed = re.split(\u001b[33mr\u001b[39m\u001b[33m'\u001b[39m\u001b[33m([,.:;?__!\u001b[39m\u001b[33m\"\u001b[39m\u001b[33m()\u001b[39m\u001b[38;5;130;01m\\'\u001b[39;00m\u001b[33m]|--|\u001b[39m\u001b[33m\\\u001b[39m\u001b[33ms)\u001b[39m\u001b[33m'\u001b[39m, text)\n\u001b[32m      9\u001b[39m preprocessed = [item.strip() \u001b[38;5;28;01mfor\u001b[39;00m item \u001b[38;5;129;01min\u001b[39;00m preprocessed \u001b[38;5;28;01mif\u001b[39;00m item.strip()]\n\u001b[32m---> \u001b[39m\u001b[32m11\u001b[39m ids = \u001b[43m[\u001b[49m\u001b[38;5;28;43mself\u001b[39;49m\u001b[43m.\u001b[49m\u001b[43mstr_to_int\u001b[49m\u001b[43m[\u001b[49m\u001b[43ms\u001b[49m\u001b[43m]\u001b[49m\u001b[43m \u001b[49m\u001b[38;5;28;43;01mfor\u001b[39;49;00m\u001b[43m \u001b[49m\u001b[43ms\u001b[49m\u001b[43m \u001b[49m\u001b[38;5;129;43;01min\u001b[39;49;00m\u001b[43m \u001b[49m\u001b[43mpreprocessed\u001b[49m\u001b[43m]\u001b[49m\n\u001b[32m     13\u001b[39m \u001b[38;5;28;01mreturn\u001b[39;00m ids\n",
      "\u001b[36mCell\u001b[39m\u001b[36m \u001b[39m\u001b[32mIn[46]\u001b[39m\u001b[32m, line 11\u001b[39m, in \u001b[36m<listcomp>\u001b[39m\u001b[34m(.0)\u001b[39m\n\u001b[32m      7\u001b[39m preprocessed = re.split(\u001b[33mr\u001b[39m\u001b[33m'\u001b[39m\u001b[33m([,.:;?__!\u001b[39m\u001b[33m\"\u001b[39m\u001b[33m()\u001b[39m\u001b[38;5;130;01m\\'\u001b[39;00m\u001b[33m]|--|\u001b[39m\u001b[33m\\\u001b[39m\u001b[33ms)\u001b[39m\u001b[33m'\u001b[39m, text)\n\u001b[32m      9\u001b[39m preprocessed = [item.strip() \u001b[38;5;28;01mfor\u001b[39;00m item \u001b[38;5;129;01min\u001b[39;00m preprocessed \u001b[38;5;28;01mif\u001b[39;00m item.strip()]\n\u001b[32m---> \u001b[39m\u001b[32m11\u001b[39m ids = [\u001b[38;5;28;43mself\u001b[39;49m\u001b[43m.\u001b[49m\u001b[43mstr_to_int\u001b[49m\u001b[43m[\u001b[49m\u001b[43ms\u001b[49m\u001b[43m]\u001b[49m \u001b[38;5;28;01mfor\u001b[39;00m s \u001b[38;5;129;01min\u001b[39;00m preprocessed]\n\u001b[32m     13\u001b[39m \u001b[38;5;28;01mreturn\u001b[39;00m ids\n",
      "\u001b[31mKeyError\u001b[39m: 'Hello'"
     ]
    }
   ],
   "source": [
    "text = \"Hello, do you like tea?\"\n",
    "print(tokenizer.encode(text))"
   ]
  },
  {
   "cell_type": "code",
   "execution_count": 50,
   "metadata": {},
   "outputs": [],
   "source": [
    "all_tokens = sorted(list(set(preprocessed)))\n",
    "all_tokens.extend([\"<|endoftext|>\", \"<|unk|>\"])\n",
    "\n",
    "vocab = {token:integer for integer,token in enumerate(all_tokens)}"
   ]
  },
  {
   "cell_type": "code",
   "execution_count": 51,
   "id": "a9a2eb0c",
   "metadata": {},
   "outputs": [
    {
     "name": "stdout",
     "output_type": "stream",
     "text": [
      "('younger', 1127)\n",
      "('your', 1128)\n",
      "('yourself', 1129)\n",
      "('<|endoftext|>', 1130)\n",
      "('<|unk|>', 1131)\n"
     ]
    }
   ],
   "source": [
    "for i, item in enumerate(list(vocab.items())[-5:]):\n",
    "    print(item)"
   ]
  },
  {
   "cell_type": "code",
   "execution_count": 52,
   "metadata": {},
   "outputs": [],
   "source": [
    "class SimpleTokenizerV2:\n",
    "    def __init__(self, vocab):\n",
    "        self.str_to_int = vocab\n",
    "        self.int_to_str = { i:s for s,i in vocab.items()}\n",
    "    \n",
    "    def encode(self, text):\n",
    "        preprocessed = re.split(r'([,.:;?_!\"()\\']|--|\\s)', text)\n",
    "        preprocessed = [item.strip() for item in preprocessed if item.strip()]\n",
    "        preprocessed = [\n",
    "            item if item in self.str_to_int \n",
    "            else \"<|unk|>\" for item in preprocessed\n",
    "        ]\n",
    "\n",
    "        ids = [self.str_to_int[s] for s in preprocessed]\n",
    "        return ids\n",
    "        \n",
    "    def decode(self, ids):\n",
    "        text = \" \".join([self.int_to_str[i] for i in ids])\n",
    "        # Replace spaces before the specified punctuations\n",
    "        text = re.sub(r'\\s+([,.:;?!\"()\\'])', r'\\1', text)\n",
    "        return text"
   ]
  },
  {
   "cell_type": "markdown",
   "id": "9f5108b6",
   "metadata": {},
   "source": [
    "## Byte Pair Coding"
   ]
  },
  {
   "cell_type": "code",
   "execution_count": 18,
   "id": "09523aaa",
   "metadata": {},
   "outputs": [
    {
     "name": "stdout",
     "output_type": "stream",
     "text": [
      "Collecting tiktoken\n",
      "  Downloading tiktoken-0.12.0-cp311-cp311-win_amd64.whl.metadata (6.9 kB)\n",
      "Collecting regex>=2022.1.18 (from tiktoken)\n",
      "  Downloading regex-2025.9.18-cp311-cp311-win_amd64.whl.metadata (41 kB)\n",
      "     ---------------------------------------- 0.0/41.5 kB ? eta -:--:--\n",
      "     --------- ------------------------------ 10.2/41.5 kB ? eta -:--:--\n",
      "     -------------------------------------- 41.5/41.5 kB 665.7 kB/s eta 0:00:00\n",
      "Collecting requests>=2.26.0 (from tiktoken)\n",
      "  Using cached requests-2.32.5-py3-none-any.whl.metadata (4.9 kB)\n",
      "Collecting charset_normalizer<4,>=2 (from requests>=2.26.0->tiktoken)\n",
      "  Downloading charset_normalizer-3.4.4-cp311-cp311-win_amd64.whl.metadata (38 kB)\n",
      "Collecting idna<4,>=2.5 (from requests>=2.26.0->tiktoken)\n",
      "  Downloading idna-3.11-py3-none-any.whl.metadata (8.4 kB)\n",
      "Collecting urllib3<3,>=1.21.1 (from requests>=2.26.0->tiktoken)\n",
      "  Using cached urllib3-2.5.0-py3-none-any.whl.metadata (6.5 kB)\n",
      "Collecting certifi>=2017.4.17 (from requests>=2.26.0->tiktoken)\n",
      "  Downloading certifi-2025.10.5-py3-none-any.whl.metadata (2.5 kB)\n",
      "Downloading tiktoken-0.12.0-cp311-cp311-win_amd64.whl (879 kB)\n",
      "   ---------------------------------------- 0.0/879.4 kB ? eta -:--:--\n",
      "   --------------------------- ----------- 614.4/879.4 kB 12.9 MB/s eta 0:00:01\n",
      "   ---------------------------------------- 879.4/879.4 kB 9.2 MB/s eta 0:00:00\n",
      "Downloading regex-2025.9.18-cp311-cp311-win_amd64.whl (276 kB)\n",
      "   ---------------------------------------- 0.0/276.2 kB ? eta -:--:--\n",
      "   ---------------------------------------- 276.2/276.2 kB 8.3 MB/s eta 0:00:00\n",
      "Using cached requests-2.32.5-py3-none-any.whl (64 kB)\n",
      "Downloading certifi-2025.10.5-py3-none-any.whl (163 kB)\n",
      "   ---------------------------------------- 0.0/163.3 kB ? eta -:--:--\n",
      "   ---------------------------------------- 163.3/163.3 kB 4.9 MB/s eta 0:00:00\n",
      "Downloading charset_normalizer-3.4.4-cp311-cp311-win_amd64.whl (106 kB)\n",
      "   ---------------------------------------- 0.0/107.0 kB ? eta -:--:--\n",
      "   ---------------------------------------- 107.0/107.0 kB 6.0 MB/s eta 0:00:00\n",
      "Downloading idna-3.11-py3-none-any.whl (71 kB)\n",
      "   ---------------------------------------- 0.0/71.0 kB ? eta -:--:--\n",
      "   ---------------------------------------- 71.0/71.0 kB 3.8 MB/s eta 0:00:00\n",
      "Using cached urllib3-2.5.0-py3-none-any.whl (129 kB)\n",
      "Installing collected packages: urllib3, regex, idna, charset_normalizer, certifi, requests, tiktoken\n",
      "Successfully installed certifi-2025.10.5 charset_normalizer-3.4.4 idna-3.11 regex-2025.9.18 requests-2.32.5 tiktoken-0.12.0 urllib3-2.5.0\n"
     ]
    },
    {
     "name": "stderr",
     "output_type": "stream",
     "text": [
      "\n",
      "[notice] A new release of pip is available: 24.0 -> 25.2\n",
      "[notice] To update, run: python.exe -m pip install --upgrade pip\n"
     ]
    }
   ],
   "source": [
    "!pip3 install tiktoken "
   ]
  },
  {
   "cell_type": "code",
   "execution_count": 53,
   "id": "e87c9a8a",
   "metadata": {},
   "outputs": [
    {
     "name": "stdout",
     "output_type": "stream",
     "text": [
      "tiktoken version: 0.12.0\n"
     ]
    }
   ],
   "source": [
    "import importlib\n",
    "import tiktoken\n",
    "\n",
    "print(\"tiktoken version:\", importlib.metadata.version(\"tiktoken\"))"
   ]
  },
  {
   "cell_type": "code",
   "execution_count": 54,
   "id": "010c1c21",
   "metadata": {},
   "outputs": [],
   "source": [
    "tokenizer = tiktoken.get_encoding(\"gpt2\")"
   ]
  },
  {
   "cell_type": "code",
   "execution_count": 55,
   "id": "94e866d7",
   "metadata": {},
   "outputs": [
    {
     "name": "stdout",
     "output_type": "stream",
     "text": [
      "[15496, 11, 466, 345, 588, 8887, 30, 220, 50256, 554, 262, 4252, 18250, 8812, 2114, 1659, 617, 34680, 27271, 13]\n"
     ]
    }
   ],
   "source": [
    "text = (\n",
    "    \"Hello, do you like tea? <|endoftext|> In the sunlit terraces\"\n",
    "     \"of someunknownPlace.\"\n",
    ")\n",
    "\n",
    "\n",
    "integers = tokenizer.encode(text, allowed_special={\"<|endoftext|>\"}\n",
    ")\n",
    "\n",
    "print(integers)"
   ]
  },
  {
   "cell_type": "code",
   "execution_count": 56,
   "id": "97b29b44",
   "metadata": {},
   "outputs": [
    {
     "name": "stdout",
     "output_type": "stream",
     "text": [
      "Hello, do you like tea? <|endoftext|> In the sunlit terracesof someunknownPlace.\n"
     ]
    }
   ],
   "source": [
    "strings = tokenizer.decode(integers)\n",
    "print(strings)"
   ]
  },
  {
   "cell_type": "code",
   "execution_count": 57,
   "metadata": {},
   "outputs": [
    {
     "name": "stdout",
     "output_type": "stream",
     "text": [
      "[33901, 86, 343, 86, 220, 959]\n",
      "Akwirw ier\n"
     ]
    }
   ],
   "source": [
    "integers = tokenizer.encode(\"Akwirw ier\")\n",
    "print(integers)\n",
    "\n",
    "strings = tokenizer.decode(integers)\n",
    "print(strings)"
   ]
  },
  {
   "cell_type": "markdown",
   "id": "bb4b3431",
   "metadata": {},
   "source": [
    "## Data Sampling with Windows"
   ]
  },
  {
   "cell_type": "code",
   "execution_count": 58,
   "id": "38735d69",
   "metadata": {},
   "outputs": [
    {
     "name": "stdout",
     "output_type": "stream",
     "text": [
      "5145\n"
     ]
    }
   ],
   "source": [
    "with open(\"verdict.txt\", \"r\", encoding=\"utf-8\") as f:\n",
    "    raw_text = f.read()\n",
    "\n",
    "enc_text = tokenizer.encode(raw_text)\n",
    "print(len(enc_text))"
   ]
  },
  {
   "cell_type": "code",
   "execution_count": 59,
   "id": "2c3735a0",
   "metadata": {},
   "outputs": [],
   "source": [
    "enc_sample = enc_text[50:]"
   ]
  },
  {
   "cell_type": "code",
   "execution_count": 60,
   "id": "58843513",
   "metadata": {},
   "outputs": [
    {
     "name": "stdout",
     "output_type": "stream",
     "text": [
      "[290, 4920, 2241, 287]\n",
      "[4920, 2241, 287, 257]\n"
     ]
    }
   ],
   "source": [
    "context_size = 4\n",
    "\n",
    "x = enc_sample[:context_size]\n",
    "y = enc_sample[1:context_size + 1]\n",
    "\n",
    "\n",
    "print(x)\n",
    "print(y)"
   ]
  },
  {
   "cell_type": "code",
   "execution_count": 61,
   "id": "7a9dd999",
   "metadata": {},
   "outputs": [
    {
     "name": "stdout",
     "output_type": "stream",
     "text": [
      "[290] ---> 4920\n",
      "[290, 4920] ---> 2241\n",
      "[290, 4920, 2241] ---> 287\n"
     ]
    }
   ],
   "source": [
    "for i in range(1, context_size):\n",
    "    context = enc_sample[:i]\n",
    "    desired = enc_sample[i]\n",
    "\n",
    "    print(context, \"--->\", desired)"
   ]
  },
  {
   "cell_type": "markdown",
   "id": "e2b9dd22",
   "metadata": {},
   "source": [
    "## Implementing Data Loader"
   ]
  },
  {
   "cell_type": "code",
   "execution_count": 29,
   "id": "1b402f54",
   "metadata": {},
   "outputs": [
    {
     "name": "stdout",
     "output_type": "stream",
     "text": [
      "Collecting torch\n",
      "  Downloading torch-2.9.0-cp311-cp311-win_amd64.whl.metadata (30 kB)\n",
      "Collecting torchvision\n",
      "  Downloading torchvision-0.24.0-cp311-cp311-win_amd64.whl.metadata (5.9 kB)\n",
      "Collecting torchaudio\n",
      "  Downloading torchaudio-2.9.0-cp311-cp311-win_amd64.whl.metadata (6.9 kB)\n",
      "Collecting filelock (from torch)\n",
      "  Downloading filelock-3.20.0-py3-none-any.whl.metadata (2.1 kB)\n",
      "Requirement already satisfied: typing-extensions>=4.10.0 in d:\\llm from scratch\\llm\\lib\\site-packages (from torch) (4.15.0)\n",
      "Collecting sympy>=1.13.3 (from torch)\n",
      "  Using cached sympy-1.14.0-py3-none-any.whl.metadata (12 kB)\n",
      "Collecting networkx>=2.5.1 (from torch)\n",
      "  Using cached networkx-3.5-py3-none-any.whl.metadata (6.3 kB)\n",
      "Collecting jinja2 (from torch)\n",
      "  Using cached jinja2-3.1.6-py3-none-any.whl.metadata (2.9 kB)\n",
      "Collecting fsspec>=0.8.5 (from torch)\n",
      "  Using cached fsspec-2025.9.0-py3-none-any.whl.metadata (10 kB)\n",
      "Collecting numpy (from torchvision)\n",
      "  Downloading numpy-2.3.4-cp311-cp311-win_amd64.whl.metadata (60 kB)\n",
      "     ---------------------------------------- 0.0/60.9 kB ? eta -:--:--\n",
      "     ---------------------------------------- 60.9/60.9 kB 1.6 MB/s eta 0:00:00\n",
      "Collecting pillow!=8.3.*,>=5.3.0 (from torchvision)\n",
      "  Downloading pillow-12.0.0-cp311-cp311-win_amd64.whl.metadata (9.0 kB)\n",
      "Collecting mpmath<1.4,>=1.1.0 (from sympy>=1.13.3->torch)\n",
      "  Using cached mpmath-1.3.0-py3-none-any.whl.metadata (8.6 kB)\n",
      "Collecting MarkupSafe>=2.0 (from jinja2->torch)\n",
      "  Downloading markupsafe-3.0.3-cp311-cp311-win_amd64.whl.metadata (2.8 kB)\n",
      "Downloading torch-2.9.0-cp311-cp311-win_amd64.whl (109.3 MB)\n",
      "   ---------------------------------------- 0.0/109.3 MB ? eta -:--:--\n",
      "   ---------------------------------------- 0.4/109.3 MB 13.9 MB/s eta 0:00:08\n",
      "   ---------------------------------------- 1.3/109.3 MB 16.4 MB/s eta 0:00:07\n",
      "    --------------------------------------- 2.0/109.3 MB 16.0 MB/s eta 0:00:07\n",
      "   - -------------------------------------- 2.7/109.3 MB 15.9 MB/s eta 0:00:07\n",
      "   - -------------------------------------- 3.2/109.3 MB 15.6 MB/s eta 0:00:07\n",
      "   - -------------------------------------- 3.9/109.3 MB 14.7 MB/s eta 0:00:08\n",
      "   - -------------------------------------- 4.0/109.3 MB 13.5 MB/s eta 0:00:08\n",
      "   - -------------------------------------- 4.3/109.3 MB 12.4 MB/s eta 0:00:09\n",
      "   - -------------------------------------- 4.3/109.3 MB 10.9 MB/s eta 0:00:10\n",
      "   - -------------------------------------- 4.4/109.3 MB 10.0 MB/s eta 0:00:11\n",
      "   - -------------------------------------- 4.7/109.3 MB 9.6 MB/s eta 0:00:11\n",
      "   - -------------------------------------- 5.0/109.3 MB 9.3 MB/s eta 0:00:12\n",
      "   - -------------------------------------- 5.2/109.3 MB 9.0 MB/s eta 0:00:12\n",
      "   - -------------------------------------- 5.3/109.3 MB 8.5 MB/s eta 0:00:13\n",
      "   - -------------------------------------- 5.4/109.3 MB 8.1 MB/s eta 0:00:13\n",
      "   -- ------------------------------------- 5.6/109.3 MB 7.7 MB/s eta 0:00:14\n",
      "   -- ------------------------------------- 5.7/109.3 MB 7.5 MB/s eta 0:00:14\n",
      "   -- ------------------------------------- 5.7/109.3 MB 7.2 MB/s eta 0:00:15\n",
      "   -- ------------------------------------- 5.8/109.3 MB 6.8 MB/s eta 0:00:16\n",
      "   -- ------------------------------------- 5.8/109.3 MB 6.4 MB/s eta 0:00:17\n",
      "   -- ------------------------------------- 5.9/109.3 MB 6.2 MB/s eta 0:00:17\n",
      "   -- ------------------------------------- 6.0/109.3 MB 6.1 MB/s eta 0:00:17\n",
      "   -- ------------------------------------- 6.1/109.3 MB 5.9 MB/s eta 0:00:18\n",
      "   -- ------------------------------------- 6.2/109.3 MB 5.9 MB/s eta 0:00:18\n",
      "   -- ------------------------------------- 6.2/109.3 MB 5.7 MB/s eta 0:00:19\n",
      "   -- ------------------------------------- 6.3/109.3 MB 5.4 MB/s eta 0:00:20\n",
      "   -- ------------------------------------- 6.4/109.3 MB 5.3 MB/s eta 0:00:20\n",
      "   -- ------------------------------------- 6.5/109.3 MB 5.2 MB/s eta 0:00:20\n",
      "   -- ------------------------------------- 6.6/109.3 MB 5.1 MB/s eta 0:00:21\n",
      "   -- ------------------------------------- 6.8/109.3 MB 5.1 MB/s eta 0:00:21\n",
      "   -- ------------------------------------- 7.0/109.3 MB 5.0 MB/s eta 0:00:21\n",
      "   -- ------------------------------------- 7.2/109.3 MB 5.0 MB/s eta 0:00:21\n",
      "   -- ------------------------------------- 7.4/109.3 MB 5.0 MB/s eta 0:00:21\n",
      "   -- ------------------------------------- 7.6/109.3 MB 4.9 MB/s eta 0:00:21\n",
      "   -- ------------------------------------- 7.8/109.3 MB 5.0 MB/s eta 0:00:21\n",
      "   -- ------------------------------------- 8.0/109.3 MB 5.0 MB/s eta 0:00:21\n",
      "   --- ------------------------------------ 8.4/109.3 MB 5.0 MB/s eta 0:00:21\n",
      "   --- ------------------------------------ 8.7/109.3 MB 5.1 MB/s eta 0:00:20\n",
      "   --- ------------------------------------ 9.1/109.3 MB 5.2 MB/s eta 0:00:20\n",
      "   --- ------------------------------------ 9.4/109.3 MB 5.3 MB/s eta 0:00:19\n",
      "   --- ------------------------------------ 9.6/109.3 MB 5.3 MB/s eta 0:00:19\n",
      "   --- ------------------------------------ 9.9/109.3 MB 5.3 MB/s eta 0:00:19\n",
      "   --- ------------------------------------ 10.2/109.3 MB 5.3 MB/s eta 0:00:19\n",
      "   --- ------------------------------------ 10.4/109.3 MB 5.3 MB/s eta 0:00:19\n",
      "   --- ------------------------------------ 10.5/109.3 MB 5.2 MB/s eta 0:00:20\n",
      "   --- ------------------------------------ 10.7/109.3 MB 5.1 MB/s eta 0:00:20\n",
      "   --- ------------------------------------ 10.9/109.3 MB 5.0 MB/s eta 0:00:20\n",
      "   ---- ----------------------------------- 11.2/109.3 MB 5.0 MB/s eta 0:00:20\n",
      "   ---- ----------------------------------- 11.4/109.3 MB 4.9 MB/s eta 0:00:21\n",
      "   ---- ----------------------------------- 11.6/109.3 MB 4.8 MB/s eta 0:00:21\n",
      "   ---- ----------------------------------- 11.8/109.3 MB 4.7 MB/s eta 0:00:21\n",
      "   ---- ----------------------------------- 12.0/109.3 MB 4.6 MB/s eta 0:00:21\n",
      "   ---- ----------------------------------- 12.2/109.3 MB 4.5 MB/s eta 0:00:22\n",
      "   ---- ----------------------------------- 12.5/109.3 MB 4.5 MB/s eta 0:00:22\n",
      "   ---- ----------------------------------- 12.7/109.3 MB 4.4 MB/s eta 0:00:22\n",
      "   ---- ----------------------------------- 13.0/109.3 MB 4.4 MB/s eta 0:00:23\n",
      "   ---- ----------------------------------- 13.3/109.3 MB 4.4 MB/s eta 0:00:22\n",
      "   ---- ----------------------------------- 13.6/109.3 MB 4.3 MB/s eta 0:00:23\n",
      "   ----- ---------------------------------- 13.8/109.3 MB 4.3 MB/s eta 0:00:23\n",
      "   ----- ---------------------------------- 14.0/109.3 MB 4.2 MB/s eta 0:00:23\n",
      "   ----- ---------------------------------- 14.3/109.3 MB 4.3 MB/s eta 0:00:23\n",
      "   ----- ---------------------------------- 14.4/109.3 MB 4.2 MB/s eta 0:00:23\n",
      "   ----- ---------------------------------- 14.5/109.3 MB 4.3 MB/s eta 0:00:23\n",
      "   ----- ---------------------------------- 14.8/109.3 MB 4.3 MB/s eta 0:00:23\n",
      "   ----- ---------------------------------- 14.9/109.3 MB 4.2 MB/s eta 0:00:23\n",
      "   ----- ---------------------------------- 15.0/109.3 MB 4.1 MB/s eta 0:00:23\n",
      "   ----- ---------------------------------- 15.1/109.3 MB 4.1 MB/s eta 0:00:24\n",
      "   ----- ---------------------------------- 15.3/109.3 MB 4.0 MB/s eta 0:00:24\n",
      "   ----- ---------------------------------- 15.4/109.3 MB 4.0 MB/s eta 0:00:24\n",
      "   ----- ---------------------------------- 15.6/109.3 MB 4.1 MB/s eta 0:00:24\n",
      "   ----- ---------------------------------- 15.7/109.3 MB 4.1 MB/s eta 0:00:24\n",
      "   ----- ---------------------------------- 15.9/109.3 MB 4.0 MB/s eta 0:00:24\n",
      "   ----- ---------------------------------- 16.0/109.3 MB 4.2 MB/s eta 0:00:23\n",
      "   ----- ---------------------------------- 16.1/109.3 MB 4.2 MB/s eta 0:00:23\n",
      "   ----- ---------------------------------- 16.3/109.3 MB 4.3 MB/s eta 0:00:22\n",
      "   ------ --------------------------------- 16.5/109.3 MB 4.5 MB/s eta 0:00:21\n",
      "   ------ --------------------------------- 16.7/109.3 MB 4.5 MB/s eta 0:00:21\n",
      "   ------ --------------------------------- 16.9/109.3 MB 4.6 MB/s eta 0:00:21\n",
      "   ------ --------------------------------- 17.1/109.3 MB 4.6 MB/s eta 0:00:20\n",
      "   ------ --------------------------------- 17.4/109.3 MB 4.7 MB/s eta 0:00:20\n",
      "   ------ --------------------------------- 17.8/109.3 MB 4.7 MB/s eta 0:00:20\n",
      "   ------ --------------------------------- 18.0/109.3 MB 4.8 MB/s eta 0:00:20\n",
      "   ------ --------------------------------- 18.2/109.3 MB 4.7 MB/s eta 0:00:20\n",
      "   ------ --------------------------------- 18.3/109.3 MB 4.7 MB/s eta 0:00:20\n",
      "   ------ --------------------------------- 18.4/109.3 MB 4.6 MB/s eta 0:00:20\n",
      "   ------ --------------------------------- 18.6/109.3 MB 4.6 MB/s eta 0:00:20\n",
      "   ------ --------------------------------- 18.8/109.3 MB 4.5 MB/s eta 0:00:21\n",
      "   ------ --------------------------------- 19.0/109.3 MB 4.5 MB/s eta 0:00:21\n",
      "   ------- -------------------------------- 19.3/109.3 MB 4.5 MB/s eta 0:00:21\n",
      "   ------- -------------------------------- 19.4/109.3 MB 4.5 MB/s eta 0:00:21\n",
      "   ------- -------------------------------- 19.6/109.3 MB 4.4 MB/s eta 0:00:21\n",
      "   ------- -------------------------------- 19.7/109.3 MB 4.4 MB/s eta 0:00:21\n",
      "   ------- -------------------------------- 19.8/109.3 MB 4.3 MB/s eta 0:00:22\n",
      "   ------- -------------------------------- 19.9/109.3 MB 4.2 MB/s eta 0:00:22\n",
      "   ------- -------------------------------- 20.0/109.3 MB 4.1 MB/s eta 0:00:22\n",
      "   ------- -------------------------------- 20.1/109.3 MB 4.1 MB/s eta 0:00:22\n",
      "   ------- -------------------------------- 20.2/109.3 MB 4.1 MB/s eta 0:00:22\n",
      "   ------- -------------------------------- 20.3/109.3 MB 4.0 MB/s eta 0:00:23\n",
      "   ------- -------------------------------- 20.5/109.3 MB 4.0 MB/s eta 0:00:23\n",
      "   ------- -------------------------------- 20.7/109.3 MB 4.0 MB/s eta 0:00:23\n",
      "   ------- -------------------------------- 20.8/109.3 MB 4.0 MB/s eta 0:00:23\n",
      "   ------- -------------------------------- 21.0/109.3 MB 4.0 MB/s eta 0:00:23\n",
      "   ------- -------------------------------- 21.2/109.3 MB 4.0 MB/s eta 0:00:23\n",
      "   ------- -------------------------------- 21.5/109.3 MB 4.0 MB/s eta 0:00:23\n",
      "   ------- -------------------------------- 21.8/109.3 MB 4.0 MB/s eta 0:00:22\n",
      "   -------- ------------------------------- 22.1/109.3 MB 4.1 MB/s eta 0:00:22\n",
      "   -------- ------------------------------- 22.4/109.3 MB 4.1 MB/s eta 0:00:22\n",
      "   -------- ------------------------------- 22.7/109.3 MB 4.1 MB/s eta 0:00:22\n",
      "   -------- ------------------------------- 23.1/109.3 MB 4.1 MB/s eta 0:00:21\n",
      "   -------- ------------------------------- 23.4/109.3 MB 4.1 MB/s eta 0:00:21\n",
      "   -------- ------------------------------- 23.7/109.3 MB 4.2 MB/s eta 0:00:21\n",
      "   -------- ------------------------------- 24.0/109.3 MB 4.2 MB/s eta 0:00:21\n",
      "   -------- ------------------------------- 24.1/109.3 MB 4.2 MB/s eta 0:00:21\n",
      "   -------- ------------------------------- 24.2/109.3 MB 4.1 MB/s eta 0:00:21\n",
      "   -------- ------------------------------- 24.3/109.3 MB 4.1 MB/s eta 0:00:21\n",
      "   -------- ------------------------------- 24.4/109.3 MB 4.0 MB/s eta 0:00:22\n",
      "   -------- ------------------------------- 24.5/109.3 MB 4.0 MB/s eta 0:00:22\n",
      "   --------- ------------------------------ 24.6/109.3 MB 4.0 MB/s eta 0:00:22\n",
      "   --------- ------------------------------ 24.7/109.3 MB 3.9 MB/s eta 0:00:22\n",
      "   --------- ------------------------------ 24.8/109.3 MB 3.9 MB/s eta 0:00:22\n",
      "   --------- ------------------------------ 24.8/109.3 MB 3.9 MB/s eta 0:00:22\n",
      "   --------- ------------------------------ 24.9/109.3 MB 3.8 MB/s eta 0:00:23\n",
      "   --------- ------------------------------ 25.0/109.3 MB 3.8 MB/s eta 0:00:23\n",
      "   --------- ------------------------------ 25.0/109.3 MB 3.8 MB/s eta 0:00:23\n",
      "   --------- ------------------------------ 25.2/109.3 MB 3.8 MB/s eta 0:00:23\n",
      "   --------- ------------------------------ 25.3/109.3 MB 3.8 MB/s eta 0:00:23\n",
      "   --------- ------------------------------ 25.4/109.3 MB 3.8 MB/s eta 0:00:23\n",
      "   --------- ------------------------------ 25.5/109.3 MB 3.8 MB/s eta 0:00:23\n",
      "   --------- ------------------------------ 25.6/109.3 MB 3.8 MB/s eta 0:00:23\n",
      "   --------- ------------------------------ 25.8/109.3 MB 3.8 MB/s eta 0:00:23\n",
      "   --------- ------------------------------ 25.9/109.3 MB 3.8 MB/s eta 0:00:23\n",
      "   --------- ------------------------------ 26.1/109.3 MB 3.9 MB/s eta 0:00:22\n",
      "   --------- ------------------------------ 26.4/109.3 MB 3.9 MB/s eta 0:00:22\n",
      "   --------- ------------------------------ 26.6/109.3 MB 3.9 MB/s eta 0:00:21\n",
      "   --------- ------------------------------ 27.0/109.3 MB 4.0 MB/s eta 0:00:21\n",
      "   --------- ------------------------------ 27.2/109.3 MB 4.0 MB/s eta 0:00:21\n",
      "   ---------- ----------------------------- 27.6/109.3 MB 4.0 MB/s eta 0:00:21\n",
      "   ---------- ----------------------------- 27.9/109.3 MB 4.0 MB/s eta 0:00:21\n",
      "   ---------- ----------------------------- 28.0/109.3 MB 3.9 MB/s eta 0:00:21\n",
      "   ---------- ----------------------------- 28.2/109.3 MB 3.9 MB/s eta 0:00:21\n",
      "   ---------- ----------------------------- 28.4/109.3 MB 3.9 MB/s eta 0:00:21\n",
      "   ---------- ----------------------------- 28.5/109.3 MB 3.9 MB/s eta 0:00:21\n",
      "   ---------- ----------------------------- 28.6/109.3 MB 3.9 MB/s eta 0:00:21\n",
      "   ---------- ----------------------------- 28.8/109.3 MB 3.9 MB/s eta 0:00:21\n",
      "   ---------- ----------------------------- 28.9/109.3 MB 3.9 MB/s eta 0:00:21\n",
      "   ---------- ----------------------------- 29.1/109.3 MB 3.9 MB/s eta 0:00:21\n",
      "   ---------- ----------------------------- 29.3/109.3 MB 3.9 MB/s eta 0:00:21\n",
      "   ---------- ----------------------------- 29.5/109.3 MB 3.9 MB/s eta 0:00:21\n",
      "   ---------- ----------------------------- 29.6/109.3 MB 3.9 MB/s eta 0:00:21\n",
      "   ---------- ----------------------------- 29.7/109.3 MB 3.9 MB/s eta 0:00:21\n",
      "   ---------- ----------------------------- 29.9/109.3 MB 3.9 MB/s eta 0:00:21\n",
      "   ---------- ----------------------------- 30.0/109.3 MB 3.9 MB/s eta 0:00:21\n",
      "   ----------- ---------------------------- 30.2/109.3 MB 4.0 MB/s eta 0:00:20\n",
      "   ----------- ---------------------------- 30.3/109.3 MB 4.0 MB/s eta 0:00:20\n",
      "   ----------- ---------------------------- 30.5/109.3 MB 4.0 MB/s eta 0:00:20\n",
      "   ----------- ---------------------------- 30.6/109.3 MB 4.0 MB/s eta 0:00:20\n",
      "   ----------- ---------------------------- 30.8/109.3 MB 4.0 MB/s eta 0:00:20\n",
      "   ----------- ---------------------------- 30.9/109.3 MB 4.0 MB/s eta 0:00:20\n",
      "   ----------- ---------------------------- 31.0/109.3 MB 4.0 MB/s eta 0:00:20\n",
      "   ----------- ---------------------------- 31.2/109.3 MB 4.0 MB/s eta 0:00:20\n",
      "   ----------- ---------------------------- 31.3/109.3 MB 3.9 MB/s eta 0:00:20\n",
      "   ----------- ---------------------------- 31.4/109.3 MB 3.9 MB/s eta 0:00:20\n",
      "   ----------- ---------------------------- 31.5/109.3 MB 3.9 MB/s eta 0:00:21\n",
      "   ----------- ---------------------------- 31.6/109.3 MB 3.8 MB/s eta 0:00:21\n",
      "   ----------- ---------------------------- 31.7/109.3 MB 3.8 MB/s eta 0:00:21\n",
      "   ----------- ---------------------------- 31.9/109.3 MB 3.7 MB/s eta 0:00:21\n",
      "   ----------- ---------------------------- 32.0/109.3 MB 3.7 MB/s eta 0:00:21\n",
      "   ----------- ---------------------------- 32.1/109.3 MB 3.7 MB/s eta 0:00:21\n",
      "   ----------- ---------------------------- 32.3/109.3 MB 3.7 MB/s eta 0:00:22\n",
      "   ----------- ---------------------------- 32.6/109.3 MB 3.6 MB/s eta 0:00:22\n",
      "   ----------- ---------------------------- 32.8/109.3 MB 3.6 MB/s eta 0:00:22\n",
      "   ------------ --------------------------- 33.1/109.3 MB 3.6 MB/s eta 0:00:22\n",
      "   ------------ --------------------------- 33.4/109.3 MB 3.6 MB/s eta 0:00:22\n",
      "   ------------ --------------------------- 33.6/109.3 MB 3.6 MB/s eta 0:00:22\n",
      "   ------------ --------------------------- 34.1/109.3 MB 3.6 MB/s eta 0:00:22\n",
      "   ------------ --------------------------- 34.4/109.3 MB 3.6 MB/s eta 0:00:21\n",
      "   ------------ --------------------------- 34.7/109.3 MB 3.8 MB/s eta 0:00:20\n",
      "   ------------ --------------------------- 35.0/109.3 MB 3.9 MB/s eta 0:00:19\n",
      "   ------------ --------------------------- 35.2/109.3 MB 4.0 MB/s eta 0:00:19\n",
      "   ------------ --------------------------- 35.4/109.3 MB 4.1 MB/s eta 0:00:19\n",
      "   ------------- -------------------------- 35.6/109.3 MB 4.1 MB/s eta 0:00:18\n",
      "   ------------- -------------------------- 35.8/109.3 MB 4.2 MB/s eta 0:00:18\n",
      "   ------------- -------------------------- 36.1/109.3 MB 4.2 MB/s eta 0:00:18\n",
      "   ------------- -------------------------- 36.3/109.3 MB 4.3 MB/s eta 0:00:18\n",
      "   ------------- -------------------------- 36.5/109.3 MB 4.2 MB/s eta 0:00:18\n",
      "   ------------- -------------------------- 36.6/109.3 MB 4.2 MB/s eta 0:00:18\n",
      "   ------------- -------------------------- 36.7/109.3 MB 4.1 MB/s eta 0:00:18\n",
      "   ------------- -------------------------- 36.8/109.3 MB 4.1 MB/s eta 0:00:18\n",
      "   ------------- -------------------------- 36.9/109.3 MB 4.0 MB/s eta 0:00:18\n",
      "   ------------- -------------------------- 37.0/109.3 MB 4.0 MB/s eta 0:00:19\n",
      "   ------------- -------------------------- 37.2/109.3 MB 3.9 MB/s eta 0:00:19\n",
      "   ------------- -------------------------- 37.3/109.3 MB 3.9 MB/s eta 0:00:19\n",
      "   ------------- -------------------------- 37.5/109.3 MB 3.9 MB/s eta 0:00:19\n",
      "   ------------- -------------------------- 37.6/109.3 MB 3.8 MB/s eta 0:00:19\n",
      "   ------------- -------------------------- 37.9/109.3 MB 3.8 MB/s eta 0:00:19\n",
      "   ------------- -------------------------- 38.1/109.3 MB 3.8 MB/s eta 0:00:19\n",
      "   -------------- ------------------------- 38.3/109.3 MB 3.8 MB/s eta 0:00:19\n",
      "   -------------- ------------------------- 38.6/109.3 MB 3.9 MB/s eta 0:00:19\n",
      "   -------------- ------------------------- 38.9/109.3 MB 4.0 MB/s eta 0:00:18\n",
      "   -------------- ------------------------- 39.2/109.3 MB 4.0 MB/s eta 0:00:18\n",
      "   -------------- ------------------------- 39.6/109.3 MB 4.1 MB/s eta 0:00:17\n",
      "   -------------- ------------------------- 40.0/109.3 MB 4.3 MB/s eta 0:00:17\n",
      "   -------------- ------------------------- 40.4/109.3 MB 4.3 MB/s eta 0:00:17\n",
      "   -------------- ------------------------- 40.7/109.3 MB 4.4 MB/s eta 0:00:16\n",
      "   --------------- ------------------------ 41.2/109.3 MB 4.7 MB/s eta 0:00:15\n",
      "   --------------- ------------------------ 41.6/109.3 MB 4.9 MB/s eta 0:00:14\n",
      "   --------------- ------------------------ 42.0/109.3 MB 5.2 MB/s eta 0:00:14\n",
      "   --------------- ------------------------ 42.3/109.3 MB 5.3 MB/s eta 0:00:13\n",
      "   --------------- ------------------------ 42.4/109.3 MB 5.3 MB/s eta 0:00:13\n",
      "   --------------- ------------------------ 42.7/109.3 MB 5.3 MB/s eta 0:00:13\n",
      "   --------------- ------------------------ 42.9/109.3 MB 5.3 MB/s eta 0:00:13\n",
      "   --------------- ------------------------ 43.0/109.3 MB 5.3 MB/s eta 0:00:13\n",
      "   --------------- ------------------------ 43.1/109.3 MB 5.2 MB/s eta 0:00:13\n",
      "   --------------- ------------------------ 43.3/109.3 MB 5.2 MB/s eta 0:00:13\n",
      "   --------------- ------------------------ 43.3/109.3 MB 5.1 MB/s eta 0:00:14\n",
      "   --------------- ------------------------ 43.4/109.3 MB 5.0 MB/s eta 0:00:14\n",
      "   --------------- ------------------------ 43.5/109.3 MB 4.9 MB/s eta 0:00:14\n",
      "   --------------- ------------------------ 43.6/109.3 MB 4.8 MB/s eta 0:00:14\n",
      "   ---------------- ----------------------- 43.8/109.3 MB 4.8 MB/s eta 0:00:14\n",
      "   ---------------- ----------------------- 44.0/109.3 MB 4.7 MB/s eta 0:00:14\n",
      "   ---------------- ----------------------- 44.1/109.3 MB 4.7 MB/s eta 0:00:14\n",
      "   ---------------- ----------------------- 44.2/109.3 MB 4.7 MB/s eta 0:00:14\n",
      "   ---------------- ----------------------- 44.3/109.3 MB 4.6 MB/s eta 0:00:15\n",
      "   ---------------- ----------------------- 44.5/109.3 MB 4.5 MB/s eta 0:00:15\n",
      "   ---------------- ----------------------- 44.7/109.3 MB 4.5 MB/s eta 0:00:15\n",
      "   ---------------- ----------------------- 45.0/109.3 MB 4.5 MB/s eta 0:00:15\n",
      "   ---------------- ----------------------- 45.4/109.3 MB 4.5 MB/s eta 0:00:15\n",
      "   ---------------- ----------------------- 45.7/109.3 MB 4.6 MB/s eta 0:00:14\n",
      "   ---------------- ----------------------- 46.1/109.3 MB 4.6 MB/s eta 0:00:14\n",
      "   ---------------- ----------------------- 46.4/109.3 MB 4.7 MB/s eta 0:00:14\n",
      "   ----------------- ---------------------- 46.9/109.3 MB 4.8 MB/s eta 0:00:13\n",
      "   ----------------- ---------------------- 47.2/109.3 MB 5.1 MB/s eta 0:00:13\n",
      "   ----------------- ---------------------- 47.6/109.3 MB 5.3 MB/s eta 0:00:12\n",
      "   ----------------- ---------------------- 48.0/109.3 MB 5.5 MB/s eta 0:00:12\n",
      "   ----------------- ---------------------- 48.2/109.3 MB 5.5 MB/s eta 0:00:12\n",
      "   ----------------- ---------------------- 48.4/109.3 MB 5.5 MB/s eta 0:00:12\n",
      "   ----------------- ---------------------- 48.6/109.3 MB 5.5 MB/s eta 0:00:12\n",
      "   ----------------- ---------------------- 48.8/109.3 MB 5.5 MB/s eta 0:00:12\n",
      "   ----------------- ---------------------- 49.0/109.3 MB 5.4 MB/s eta 0:00:12\n",
      "   ----------------- ---------------------- 49.2/109.3 MB 5.4 MB/s eta 0:00:12\n",
      "   ------------------ --------------------- 49.3/109.3 MB 5.3 MB/s eta 0:00:12\n",
      "   ------------------ --------------------- 49.5/109.3 MB 5.2 MB/s eta 0:00:12\n",
      "   ------------------ --------------------- 49.6/109.3 MB 5.2 MB/s eta 0:00:12\n",
      "   ------------------ --------------------- 49.7/109.3 MB 5.1 MB/s eta 0:00:12\n",
      "   ------------------ --------------------- 49.9/109.3 MB 5.0 MB/s eta 0:00:12\n",
      "   ------------------ --------------------- 50.1/109.3 MB 5.0 MB/s eta 0:00:12\n",
      "   ------------------ --------------------- 50.2/109.3 MB 4.9 MB/s eta 0:00:13\n",
      "   ------------------ --------------------- 50.4/109.3 MB 4.8 MB/s eta 0:00:13\n",
      "   ------------------ --------------------- 50.5/109.3 MB 4.7 MB/s eta 0:00:13\n",
      "   ------------------ --------------------- 50.7/109.3 MB 4.7 MB/s eta 0:00:13\n",
      "   ------------------ --------------------- 50.8/109.3 MB 4.6 MB/s eta 0:00:13\n",
      "   ------------------ --------------------- 51.0/109.3 MB 4.6 MB/s eta 0:00:13\n",
      "   ------------------ --------------------- 51.3/109.3 MB 4.5 MB/s eta 0:00:13\n",
      "   ------------------ --------------------- 51.5/109.3 MB 4.5 MB/s eta 0:00:13\n",
      "   ------------------ --------------------- 51.9/109.3 MB 4.5 MB/s eta 0:00:13\n",
      "   ------------------- -------------------- 52.2/109.3 MB 4.5 MB/s eta 0:00:13\n",
      "   ------------------- -------------------- 52.4/109.3 MB 4.5 MB/s eta 0:00:13\n",
      "   ------------------- -------------------- 52.6/109.3 MB 4.5 MB/s eta 0:00:13\n",
      "   ------------------- -------------------- 52.8/109.3 MB 4.5 MB/s eta 0:00:13\n",
      "   ------------------- -------------------- 52.9/109.3 MB 4.5 MB/s eta 0:00:13\n",
      "   ------------------- -------------------- 53.1/109.3 MB 4.4 MB/s eta 0:00:13\n",
      "   ------------------- -------------------- 53.3/109.3 MB 4.5 MB/s eta 0:00:13\n",
      "   ------------------- -------------------- 53.5/109.3 MB 4.5 MB/s eta 0:00:13\n",
      "   ------------------- -------------------- 53.7/109.3 MB 4.7 MB/s eta 0:00:12\n",
      "   ------------------- -------------------- 54.0/109.3 MB 4.8 MB/s eta 0:00:12\n",
      "   ------------------- -------------------- 54.1/109.3 MB 4.8 MB/s eta 0:00:12\n",
      "   ------------------- -------------------- 54.3/109.3 MB 4.8 MB/s eta 0:00:12\n",
      "   ------------------- -------------------- 54.5/109.3 MB 4.9 MB/s eta 0:00:12\n",
      "   ------------------- -------------------- 54.7/109.3 MB 4.9 MB/s eta 0:00:12\n",
      "   -------------------- ------------------- 54.8/109.3 MB 4.9 MB/s eta 0:00:12\n",
      "   -------------------- ------------------- 55.0/109.3 MB 4.9 MB/s eta 0:00:12\n",
      "   -------------------- ------------------- 55.1/109.3 MB 4.8 MB/s eta 0:00:12\n",
      "   -------------------- ------------------- 55.4/109.3 MB 4.8 MB/s eta 0:00:12\n",
      "   -------------------- ------------------- 55.6/109.3 MB 4.7 MB/s eta 0:00:12\n",
      "   -------------------- ------------------- 55.8/109.3 MB 4.7 MB/s eta 0:00:12\n",
      "   -------------------- ------------------- 56.1/109.3 MB 4.7 MB/s eta 0:00:12\n",
      "   -------------------- ------------------- 56.2/109.3 MB 4.6 MB/s eta 0:00:12\n",
      "   -------------------- ------------------- 56.4/109.3 MB 4.6 MB/s eta 0:00:12\n",
      "   -------------------- ------------------- 56.6/109.3 MB 4.5 MB/s eta 0:00:12\n",
      "   -------------------- ------------------- 56.9/109.3 MB 4.5 MB/s eta 0:00:12\n",
      "   -------------------- ------------------- 57.1/109.3 MB 4.5 MB/s eta 0:00:12\n",
      "   --------------------- ------------------ 57.4/109.3 MB 4.5 MB/s eta 0:00:12\n",
      "   --------------------- ------------------ 57.7/109.3 MB 4.5 MB/s eta 0:00:12\n",
      "   --------------------- ------------------ 58.0/109.3 MB 4.5 MB/s eta 0:00:12\n",
      "   --------------------- ------------------ 58.3/109.3 MB 4.4 MB/s eta 0:00:12\n",
      "   --------------------- ------------------ 58.5/109.3 MB 4.4 MB/s eta 0:00:12\n",
      "   --------------------- ------------------ 58.8/109.3 MB 4.5 MB/s eta 0:00:12\n",
      "   --------------------- ------------------ 59.1/109.3 MB 4.5 MB/s eta 0:00:12\n",
      "   --------------------- ------------------ 59.3/109.3 MB 4.6 MB/s eta 0:00:11\n",
      "   --------------------- ------------------ 59.6/109.3 MB 4.6 MB/s eta 0:00:11\n",
      "   --------------------- ------------------ 59.9/109.3 MB 4.8 MB/s eta 0:00:11\n",
      "   --------------------- ------------------ 60.0/109.3 MB 4.7 MB/s eta 0:00:11\n",
      "   ---------------------- ----------------- 60.2/109.3 MB 4.7 MB/s eta 0:00:11\n",
      "   ---------------------- ----------------- 60.3/109.3 MB 4.7 MB/s eta 0:00:11\n",
      "   ---------------------- ----------------- 60.4/109.3 MB 4.7 MB/s eta 0:00:11\n",
      "   ---------------------- ----------------- 60.5/109.3 MB 4.6 MB/s eta 0:00:11\n",
      "   ---------------------- ----------------- 60.6/109.3 MB 4.6 MB/s eta 0:00:11\n",
      "   ---------------------- ----------------- 60.7/109.3 MB 4.6 MB/s eta 0:00:11\n",
      "   ---------------------- ----------------- 60.8/109.3 MB 4.6 MB/s eta 0:00:11\n",
      "   ---------------------- ----------------- 60.9/109.3 MB 4.6 MB/s eta 0:00:11\n",
      "   ---------------------- ----------------- 61.1/109.3 MB 4.5 MB/s eta 0:00:11\n",
      "   ---------------------- ----------------- 61.2/109.3 MB 4.5 MB/s eta 0:00:11\n",
      "   ---------------------- ----------------- 61.4/109.3 MB 4.5 MB/s eta 0:00:11\n",
      "   ---------------------- ----------------- 61.6/109.3 MB 4.5 MB/s eta 0:00:11\n",
      "   ---------------------- ----------------- 61.8/109.3 MB 4.5 MB/s eta 0:00:11\n",
      "   ---------------------- ----------------- 62.1/109.3 MB 4.5 MB/s eta 0:00:11\n",
      "   ---------------------- ----------------- 62.4/109.3 MB 4.5 MB/s eta 0:00:11\n",
      "   ---------------------- ----------------- 62.8/109.3 MB 4.5 MB/s eta 0:00:11\n",
      "   ----------------------- ---------------- 63.1/109.3 MB 4.6 MB/s eta 0:00:11\n",
      "   ----------------------- ---------------- 63.3/109.3 MB 4.6 MB/s eta 0:00:10\n",
      "   ----------------------- ---------------- 63.6/109.3 MB 4.7 MB/s eta 0:00:10\n",
      "   ----------------------- ---------------- 64.0/109.3 MB 4.7 MB/s eta 0:00:10\n",
      "   ----------------------- ---------------- 64.4/109.3 MB 4.8 MB/s eta 0:00:10\n",
      "   ----------------------- ---------------- 64.7/109.3 MB 4.9 MB/s eta 0:00:10\n",
      "   ----------------------- ---------------- 65.1/109.3 MB 5.0 MB/s eta 0:00:09\n",
      "   ----------------------- ---------------- 65.4/109.3 MB 5.2 MB/s eta 0:00:09\n",
      "   ------------------------ --------------- 65.6/109.3 MB 5.2 MB/s eta 0:00:09\n",
      "   ------------------------ --------------- 65.8/109.3 MB 5.2 MB/s eta 0:00:09\n",
      "   ------------------------ --------------- 66.0/109.3 MB 5.2 MB/s eta 0:00:09\n",
      "   ------------------------ --------------- 66.3/109.3 MB 5.1 MB/s eta 0:00:09\n",
      "   ------------------------ --------------- 66.5/109.3 MB 5.2 MB/s eta 0:00:09\n",
      "   ------------------------ --------------- 66.8/109.3 MB 5.2 MB/s eta 0:00:09\n",
      "   ------------------------ --------------- 67.1/109.3 MB 5.3 MB/s eta 0:00:09\n",
      "   ------------------------ --------------- 67.4/109.3 MB 5.3 MB/s eta 0:00:08\n",
      "   ------------------------ --------------- 67.5/109.3 MB 5.3 MB/s eta 0:00:08\n",
      "   ------------------------ --------------- 67.7/109.3 MB 5.2 MB/s eta 0:00:08\n",
      "   ------------------------ --------------- 67.9/109.3 MB 5.2 MB/s eta 0:00:08\n",
      "   ------------------------ --------------- 68.1/109.3 MB 5.2 MB/s eta 0:00:08\n",
      "   ------------------------ --------------- 68.3/109.3 MB 5.1 MB/s eta 0:00:09\n",
      "   ------------------------- -------------- 68.5/109.3 MB 5.0 MB/s eta 0:00:09\n",
      "   ------------------------- -------------- 68.6/109.3 MB 5.0 MB/s eta 0:00:09\n",
      "   ------------------------- -------------- 68.8/109.3 MB 5.0 MB/s eta 0:00:09\n",
      "   ------------------------- -------------- 68.9/109.3 MB 5.0 MB/s eta 0:00:09\n",
      "   ------------------------- -------------- 69.0/109.3 MB 4.9 MB/s eta 0:00:09\n",
      "   ------------------------- -------------- 69.1/109.3 MB 4.9 MB/s eta 0:00:09\n",
      "   ------------------------- -------------- 69.3/109.3 MB 4.8 MB/s eta 0:00:09\n",
      "   ------------------------- -------------- 69.4/109.3 MB 4.8 MB/s eta 0:00:09\n",
      "   ------------------------- -------------- 69.6/109.3 MB 4.7 MB/s eta 0:00:09\n",
      "   ------------------------- -------------- 69.8/109.3 MB 4.7 MB/s eta 0:00:09\n",
      "   ------------------------- -------------- 70.0/109.3 MB 4.7 MB/s eta 0:00:09\n",
      "   ------------------------- -------------- 70.1/109.3 MB 4.6 MB/s eta 0:00:09\n",
      "   ------------------------- -------------- 70.3/109.3 MB 4.6 MB/s eta 0:00:09\n",
      "   ------------------------- -------------- 70.5/109.3 MB 4.7 MB/s eta 0:00:09\n",
      "   ------------------------- -------------- 70.7/109.3 MB 4.8 MB/s eta 0:00:09\n",
      "   ------------------------- -------------- 70.8/109.3 MB 4.8 MB/s eta 0:00:08\n",
      "   ------------------------- -------------- 70.8/109.3 MB 4.7 MB/s eta 0:00:09\n",
      "   ------------------------- -------------- 70.9/109.3 MB 4.7 MB/s eta 0:00:09\n",
      "   ------------------------- -------------- 71.0/109.3 MB 4.7 MB/s eta 0:00:09\n",
      "   -------------------------- ------------- 71.1/109.3 MB 4.7 MB/s eta 0:00:09\n",
      "   -------------------------- ------------- 71.1/109.3 MB 4.7 MB/s eta 0:00:09\n",
      "   -------------------------- ------------- 71.1/109.3 MB 4.7 MB/s eta 0:00:09\n",
      "   -------------------------- ------------- 71.1/109.3 MB 4.7 MB/s eta 0:00:09\n",
      "   -------------------------- ------------- 71.1/109.3 MB 4.7 MB/s eta 0:00:09\n",
      "   -------------------------- ------------- 71.2/109.3 MB 4.4 MB/s eta 0:00:09\n",
      "   -------------------------- ------------- 71.2/109.3 MB 4.3 MB/s eta 0:00:09\n",
      "   -------------------------- ------------- 71.4/109.3 MB 4.2 MB/s eta 0:00:09\n",
      "   -------------------------- ------------- 71.7/109.3 MB 4.3 MB/s eta 0:00:09\n",
      "   -------------------------- ------------- 72.0/109.3 MB 4.3 MB/s eta 0:00:09\n",
      "   -------------------------- ------------- 72.4/109.3 MB 4.4 MB/s eta 0:00:09\n",
      "   -------------------------- ------------- 72.8/109.3 MB 4.4 MB/s eta 0:00:09\n",
      "   -------------------------- ------------- 73.1/109.3 MB 4.4 MB/s eta 0:00:09\n",
      "   -------------------------- ------------- 73.5/109.3 MB 4.4 MB/s eta 0:00:09\n",
      "   --------------------------- ------------ 73.8/109.3 MB 4.4 MB/s eta 0:00:09\n",
      "   --------------------------- ------------ 74.3/109.3 MB 4.4 MB/s eta 0:00:08\n",
      "   --------------------------- ------------ 74.7/109.3 MB 4.4 MB/s eta 0:00:08\n",
      "   --------------------------- ------------ 75.1/109.3 MB 4.4 MB/s eta 0:00:08\n",
      "   --------------------------- ------------ 75.5/109.3 MB 4.4 MB/s eta 0:00:08\n",
      "   --------------------------- ------------ 75.9/109.3 MB 4.5 MB/s eta 0:00:08\n",
      "   --------------------------- ------------ 76.3/109.3 MB 4.6 MB/s eta 0:00:08\n",
      "   ---------------------------- ----------- 76.9/109.3 MB 4.7 MB/s eta 0:00:07\n",
      "   ---------------------------- ----------- 77.2/109.3 MB 4.7 MB/s eta 0:00:07\n",
      "   ---------------------------- ----------- 77.5/109.3 MB 4.7 MB/s eta 0:00:07\n",
      "   ---------------------------- ----------- 77.7/109.3 MB 4.6 MB/s eta 0:00:07\n",
      "   ---------------------------- ----------- 77.8/109.3 MB 4.6 MB/s eta 0:00:07\n",
      "   ---------------------------- ----------- 78.0/109.3 MB 4.5 MB/s eta 0:00:07\n",
      "   ---------------------------- ----------- 78.1/109.3 MB 4.5 MB/s eta 0:00:07\n",
      "   ---------------------------- ----------- 78.2/109.3 MB 4.5 MB/s eta 0:00:07\n",
      "   ---------------------------- ----------- 78.4/109.3 MB 4.5 MB/s eta 0:00:07\n",
      "   ---------------------------- ----------- 78.6/109.3 MB 4.5 MB/s eta 0:00:07\n",
      "   ---------------------------- ----------- 78.8/109.3 MB 4.5 MB/s eta 0:00:07\n",
      "   ---------------------------- ----------- 78.9/109.3 MB 4.5 MB/s eta 0:00:07\n",
      "   ---------------------------- ----------- 79.0/109.3 MB 4.5 MB/s eta 0:00:07\n",
      "   ---------------------------- ----------- 79.1/109.3 MB 4.4 MB/s eta 0:00:07\n",
      "   ----------------------------- ---------- 79.3/109.3 MB 4.4 MB/s eta 0:00:07\n",
      "   ----------------------------- ---------- 79.5/109.3 MB 4.5 MB/s eta 0:00:07\n",
      "   ----------------------------- ---------- 79.6/109.3 MB 4.4 MB/s eta 0:00:07\n",
      "   ----------------------------- ---------- 79.8/109.3 MB 4.5 MB/s eta 0:00:07\n",
      "   ----------------------------- ---------- 80.1/109.3 MB 4.5 MB/s eta 0:00:07\n",
      "   ----------------------------- ---------- 80.4/109.3 MB 4.5 MB/s eta 0:00:07\n",
      "   ----------------------------- ---------- 80.7/109.3 MB 4.6 MB/s eta 0:00:07\n",
      "   ----------------------------- ---------- 81.1/109.3 MB 4.8 MB/s eta 0:00:06\n",
      "   ----------------------------- ---------- 81.4/109.3 MB 5.4 MB/s eta 0:00:06\n",
      "   ----------------------------- ---------- 81.7/109.3 MB 5.7 MB/s eta 0:00:05\n",
      "   ------------------------------ --------- 82.1/109.3 MB 5.8 MB/s eta 0:00:05\n",
      "   ------------------------------ --------- 82.4/109.3 MB 5.9 MB/s eta 0:00:05\n",
      "   ------------------------------ --------- 82.9/109.3 MB 5.9 MB/s eta 0:00:05\n",
      "   ------------------------------ --------- 83.1/109.3 MB 5.9 MB/s eta 0:00:05\n",
      "   ------------------------------ --------- 83.4/109.3 MB 5.9 MB/s eta 0:00:05\n",
      "   ------------------------------ --------- 83.8/109.3 MB 5.8 MB/s eta 0:00:05\n",
      "   ------------------------------ --------- 84.1/109.3 MB 5.8 MB/s eta 0:00:05\n",
      "   ------------------------------ --------- 84.4/109.3 MB 5.8 MB/s eta 0:00:05\n",
      "   ------------------------------ --------- 84.5/109.3 MB 5.7 MB/s eta 0:00:05\n",
      "   ------------------------------ --------- 84.7/109.3 MB 5.7 MB/s eta 0:00:05\n",
      "   ------------------------------- -------- 84.8/109.3 MB 5.6 MB/s eta 0:00:05\n",
      "   ------------------------------- -------- 85.0/109.3 MB 5.5 MB/s eta 0:00:05\n",
      "   ------------------------------- -------- 85.1/109.3 MB 5.5 MB/s eta 0:00:05\n",
      "   ------------------------------- -------- 85.2/109.3 MB 5.4 MB/s eta 0:00:05\n",
      "   ------------------------------- -------- 85.4/109.3 MB 5.3 MB/s eta 0:00:05\n",
      "   ------------------------------- -------- 85.5/109.3 MB 5.2 MB/s eta 0:00:05\n",
      "   ------------------------------- -------- 85.7/109.3 MB 5.1 MB/s eta 0:00:05\n",
      "   ------------------------------- -------- 85.8/109.3 MB 5.1 MB/s eta 0:00:05\n",
      "   ------------------------------- -------- 86.0/109.3 MB 5.0 MB/s eta 0:00:05\n",
      "   ------------------------------- -------- 86.3/109.3 MB 5.0 MB/s eta 0:00:05\n",
      "   ------------------------------- -------- 86.5/109.3 MB 4.9 MB/s eta 0:00:05\n",
      "   ------------------------------- -------- 86.6/109.3 MB 4.9 MB/s eta 0:00:05\n",
      "   ------------------------------- -------- 86.7/109.3 MB 4.7 MB/s eta 0:00:05\n",
      "   ------------------------------- -------- 86.9/109.3 MB 4.7 MB/s eta 0:00:05\n",
      "   ------------------------------- -------- 87.0/109.3 MB 4.6 MB/s eta 0:00:05\n",
      "   ------------------------------- -------- 87.2/109.3 MB 4.6 MB/s eta 0:00:05\n",
      "   ------------------------------- -------- 87.4/109.3 MB 4.5 MB/s eta 0:00:05\n",
      "   -------------------------------- ------- 87.6/109.3 MB 4.5 MB/s eta 0:00:05\n",
      "   -------------------------------- ------- 87.8/109.3 MB 4.5 MB/s eta 0:00:05\n",
      "   -------------------------------- ------- 88.1/109.3 MB 4.6 MB/s eta 0:00:05\n",
      "   -------------------------------- ------- 88.3/109.3 MB 4.7 MB/s eta 0:00:05\n",
      "   -------------------------------- ------- 88.6/109.3 MB 4.7 MB/s eta 0:00:05\n",
      "   -------------------------------- ------- 88.9/109.3 MB 4.8 MB/s eta 0:00:05\n",
      "   -------------------------------- ------- 89.2/109.3 MB 4.9 MB/s eta 0:00:05\n",
      "   -------------------------------- ------- 89.5/109.3 MB 5.1 MB/s eta 0:00:04\n",
      "   -------------------------------- ------- 89.8/109.3 MB 5.2 MB/s eta 0:00:04\n",
      "   -------------------------------- ------- 90.0/109.3 MB 5.2 MB/s eta 0:00:04\n",
      "   -------------------------------- ------- 90.1/109.3 MB 5.2 MB/s eta 0:00:04\n",
      "   --------------------------------- ------ 90.3/109.3 MB 5.1 MB/s eta 0:00:04\n",
      "   --------------------------------- ------ 90.5/109.3 MB 5.1 MB/s eta 0:00:04\n",
      "   --------------------------------- ------ 90.6/109.3 MB 5.0 MB/s eta 0:00:04\n",
      "   --------------------------------- ------ 90.7/109.3 MB 5.0 MB/s eta 0:00:04\n",
      "   --------------------------------- ------ 90.9/109.3 MB 4.9 MB/s eta 0:00:04\n",
      "   --------------------------------- ------ 91.1/109.3 MB 4.9 MB/s eta 0:00:04\n",
      "   --------------------------------- ------ 91.3/109.3 MB 4.8 MB/s eta 0:00:04\n",
      "   --------------------------------- ------ 91.5/109.3 MB 4.8 MB/s eta 0:00:04\n",
      "   --------------------------------- ------ 91.8/109.3 MB 4.8 MB/s eta 0:00:04\n",
      "   --------------------------------- ------ 92.1/109.3 MB 4.8 MB/s eta 0:00:04\n",
      "   --------------------------------- ------ 92.3/109.3 MB 4.7 MB/s eta 0:00:04\n",
      "   --------------------------------- ------ 92.7/109.3 MB 4.7 MB/s eta 0:00:04\n",
      "   ---------------------------------- ----- 93.1/109.3 MB 4.7 MB/s eta 0:00:04\n",
      "   ---------------------------------- ----- 93.4/109.3 MB 4.7 MB/s eta 0:00:04\n",
      "   ---------------------------------- ----- 93.5/109.3 MB 4.7 MB/s eta 0:00:04\n",
      "   ---------------------------------- ----- 93.6/109.3 MB 4.6 MB/s eta 0:00:04\n",
      "   ---------------------------------- ----- 93.8/109.3 MB 4.6 MB/s eta 0:00:04\n",
      "   ---------------------------------- ----- 93.9/109.3 MB 4.5 MB/s eta 0:00:04\n",
      "   ---------------------------------- ----- 94.0/109.3 MB 4.5 MB/s eta 0:00:04\n",
      "   ---------------------------------- ----- 94.2/109.3 MB 4.4 MB/s eta 0:00:04\n",
      "   ---------------------------------- ----- 94.2/109.3 MB 4.4 MB/s eta 0:00:04\n",
      "   ---------------------------------- ----- 94.3/109.3 MB 4.3 MB/s eta 0:00:04\n",
      "   ---------------------------------- ----- 94.5/109.3 MB 4.3 MB/s eta 0:00:04\n",
      "   ---------------------------------- ----- 94.6/109.3 MB 4.3 MB/s eta 0:00:04\n",
      "   ---------------------------------- ----- 94.8/109.3 MB 4.3 MB/s eta 0:00:04\n",
      "   ---------------------------------- ----- 95.0/109.3 MB 4.3 MB/s eta 0:00:04\n",
      "   ---------------------------------- ----- 95.2/109.3 MB 4.3 MB/s eta 0:00:04\n",
      "   ---------------------------------- ----- 95.5/109.3 MB 4.4 MB/s eta 0:00:04\n",
      "   ----------------------------------- ---- 95.7/109.3 MB 4.4 MB/s eta 0:00:04\n",
      "   ----------------------------------- ---- 96.0/109.3 MB 4.5 MB/s eta 0:00:03\n",
      "   ----------------------------------- ---- 96.3/109.3 MB 4.5 MB/s eta 0:00:03\n",
      "   ----------------------------------- ---- 96.7/109.3 MB 4.6 MB/s eta 0:00:03\n",
      "   ----------------------------------- ---- 97.0/109.3 MB 4.8 MB/s eta 0:00:03\n",
      "   ----------------------------------- ---- 97.4/109.3 MB 4.9 MB/s eta 0:00:03\n",
      "   ----------------------------------- ---- 97.7/109.3 MB 5.0 MB/s eta 0:00:03\n",
      "   ----------------------------------- ---- 98.1/109.3 MB 5.1 MB/s eta 0:00:03\n",
      "   ------------------------------------ --- 98.5/109.3 MB 5.2 MB/s eta 0:00:03\n",
      "   ------------------------------------ --- 98.8/109.3 MB 5.1 MB/s eta 0:00:03\n",
      "   ------------------------------------ --- 99.0/109.3 MB 5.1 MB/s eta 0:00:03\n",
      "   ------------------------------------ --- 99.1/109.3 MB 5.1 MB/s eta 0:00:03\n",
      "   ------------------------------------ --- 99.3/109.3 MB 5.0 MB/s eta 0:00:03\n",
      "   ------------------------------------ --- 99.4/109.3 MB 4.9 MB/s eta 0:00:03\n",
      "   ------------------------------------ --- 99.6/109.3 MB 4.9 MB/s eta 0:00:02\n",
      "   ------------------------------------ --- 99.7/109.3 MB 4.8 MB/s eta 0:00:02\n",
      "   ------------------------------------ --- 99.9/109.3 MB 4.8 MB/s eta 0:00:02\n",
      "   ------------------------------------ --- 100.1/109.3 MB 4.8 MB/s eta 0:00:02\n",
      "   ------------------------------------ --- 100.2/109.3 MB 4.7 MB/s eta 0:00:02\n",
      "   ------------------------------------ --- 100.4/109.3 MB 4.7 MB/s eta 0:00:02\n",
      "   ------------------------------------ --- 100.6/109.3 MB 4.7 MB/s eta 0:00:02\n",
      "   ------------------------------------ --- 100.8/109.3 MB 4.8 MB/s eta 0:00:02\n",
      "   ------------------------------------ --- 101.0/109.3 MB 4.8 MB/s eta 0:00:02\n",
      "   ------------------------------------- -- 101.2/109.3 MB 4.8 MB/s eta 0:00:02\n",
      "   ------------------------------------- -- 101.4/109.3 MB 4.8 MB/s eta 0:00:02\n",
      "   ------------------------------------- -- 101.5/109.3 MB 4.8 MB/s eta 0:00:02\n",
      "   ------------------------------------- -- 101.8/109.3 MB 4.8 MB/s eta 0:00:02\n",
      "   ------------------------------------- -- 102.0/109.3 MB 4.8 MB/s eta 0:00:02\n",
      "   ------------------------------------- -- 102.2/109.3 MB 4.8 MB/s eta 0:00:02\n",
      "   ------------------------------------- -- 102.4/109.3 MB 4.7 MB/s eta 0:00:02\n",
      "   ------------------------------------- -- 102.6/109.3 MB 4.7 MB/s eta 0:00:02\n",
      "   ------------------------------------- -- 102.8/109.3 MB 4.6 MB/s eta 0:00:02\n",
      "   ------------------------------------- -- 103.0/109.3 MB 4.6 MB/s eta 0:00:02\n",
      "   ------------------------------------- -- 103.2/109.3 MB 4.5 MB/s eta 0:00:02\n",
      "   ------------------------------------- -- 103.5/109.3 MB 4.5 MB/s eta 0:00:02\n",
      "   ------------------------------------- -- 103.7/109.3 MB 4.5 MB/s eta 0:00:02\n",
      "   -------------------------------------- - 103.9/109.3 MB 4.6 MB/s eta 0:00:02\n",
      "   -------------------------------------- - 104.1/109.3 MB 4.6 MB/s eta 0:00:02\n",
      "   -------------------------------------- - 104.4/109.3 MB 4.7 MB/s eta 0:00:02\n",
      "   -------------------------------------- - 104.6/109.3 MB 4.9 MB/s eta 0:00:01\n",
      "   -------------------------------------- - 105.0/109.3 MB 5.0 MB/s eta 0:00:01\n",
      "   -------------------------------------- - 105.1/109.3 MB 5.0 MB/s eta 0:00:01\n",
      "   -------------------------------------- - 105.3/109.3 MB 5.0 MB/s eta 0:00:01\n",
      "   -------------------------------------- - 105.5/109.3 MB 5.0 MB/s eta 0:00:01\n",
      "   -------------------------------------- - 105.8/109.3 MB 5.0 MB/s eta 0:00:01\n",
      "   -------------------------------------- - 106.1/109.3 MB 5.0 MB/s eta 0:00:01\n",
      "   -------------------------------------- - 106.3/109.3 MB 5.0 MB/s eta 0:00:01\n",
      "   -------------------------------------- - 106.5/109.3 MB 5.0 MB/s eta 0:00:01\n",
      "   ---------------------------------------  106.6/109.3 MB 4.9 MB/s eta 0:00:01\n",
      "   ---------------------------------------  106.8/109.3 MB 4.8 MB/s eta 0:00:01\n",
      "   ---------------------------------------  106.9/109.3 MB 4.7 MB/s eta 0:00:01\n",
      "   ---------------------------------------  107.0/109.3 MB 4.7 MB/s eta 0:00:01\n",
      "   ---------------------------------------  107.2/109.3 MB 4.6 MB/s eta 0:00:01\n",
      "   ---------------------------------------  107.3/109.3 MB 4.5 MB/s eta 0:00:01\n",
      "   ---------------------------------------  107.4/109.3 MB 4.5 MB/s eta 0:00:01\n",
      "   ---------------------------------------  107.5/109.3 MB 4.5 MB/s eta 0:00:01\n",
      "   ---------------------------------------  107.7/109.3 MB 4.4 MB/s eta 0:00:01\n",
      "   ---------------------------------------  107.9/109.3 MB 4.4 MB/s eta 0:00:01\n",
      "   ---------------------------------------  108.1/109.3 MB 4.3 MB/s eta 0:00:01\n",
      "   ---------------------------------------  108.3/109.3 MB 4.3 MB/s eta 0:00:01\n",
      "   ---------------------------------------  108.5/109.3 MB 4.3 MB/s eta 0:00:01\n",
      "   ---------------------------------------  108.8/109.3 MB 4.2 MB/s eta 0:00:01\n",
      "   ---------------------------------------  109.1/109.3 MB 4.3 MB/s eta 0:00:01\n",
      "   ---------------------------------------  109.3/109.3 MB 4.3 MB/s eta 0:00:01\n",
      "   ---------------------------------------  109.3/109.3 MB 4.3 MB/s eta 0:00:01\n",
      "   ---------------------------------------  109.3/109.3 MB 4.3 MB/s eta 0:00:01\n",
      "   ---------------------------------------  109.3/109.3 MB 4.3 MB/s eta 0:00:01\n",
      "   ---------------------------------------  109.3/109.3 MB 4.3 MB/s eta 0:00:01\n",
      "   ---------------------------------------- 109.3/109.3 MB 3.9 MB/s eta 0:00:00\n",
      "Downloading torchvision-0.24.0-cp311-cp311-win_amd64.whl (4.0 MB)\n",
      "   ---------------------------------------- 0.0/4.0 MB ? eta -:--:--\n",
      "   -- ------------------------------------- 0.3/4.0 MB 8.9 MB/s eta 0:00:01\n",
      "   ----- ---------------------------------- 0.6/4.0 MB 7.0 MB/s eta 0:00:01\n",
      "   -------- ------------------------------- 0.9/4.0 MB 6.8 MB/s eta 0:00:01\n",
      "   ------------ --------------------------- 1.2/4.0 MB 7.1 MB/s eta 0:00:01\n",
      "   --------------- ------------------------ 1.6/4.0 MB 7.3 MB/s eta 0:00:01\n",
      "   ------------------- -------------------- 2.0/4.0 MB 7.8 MB/s eta 0:00:01\n",
      "   ----------------------- ---------------- 2.3/4.0 MB 7.8 MB/s eta 0:00:01\n",
      "   -------------------------- ------------- 2.7/4.0 MB 7.9 MB/s eta 0:00:01\n",
      "   ------------------------------ --------- 3.0/4.0 MB 8.1 MB/s eta 0:00:01\n",
      "   ---------------------------------- ----- 3.5/4.0 MB 8.2 MB/s eta 0:00:01\n",
      "   -------------------------------------- - 3.9/4.0 MB 8.2 MB/s eta 0:00:01\n",
      "   ---------------------------------------- 4.0/4.0 MB 7.8 MB/s eta 0:00:00\n",
      "Downloading torchaudio-2.9.0-cp311-cp311-win_amd64.whl (664 kB)\n",
      "   ---------------------------------------- 0.0/664.7 kB ? eta -:--:--\n",
      "   -------------- ------------------------- 245.8/664.7 kB 7.6 MB/s eta 0:00:01\n",
      "   ---------------------------- ----------- 481.3/664.7 kB 6.0 MB/s eta 0:00:01\n",
      "   ---------------------------------------- 664.7/664.7 kB 5.2 MB/s eta 0:00:00\n",
      "Using cached fsspec-2025.9.0-py3-none-any.whl (199 kB)\n",
      "Using cached networkx-3.5-py3-none-any.whl (2.0 MB)\n",
      "Downloading pillow-12.0.0-cp311-cp311-win_amd64.whl (7.0 MB)\n",
      "   ---------------------------------------- 0.0/7.0 MB ? eta -:--:--\n",
      "   - -------------------------------------- 0.3/7.0 MB 5.2 MB/s eta 0:00:02\n",
      "   --- ------------------------------------ 0.7/7.0 MB 5.9 MB/s eta 0:00:02\n",
      "   ----- ---------------------------------- 1.0/7.0 MB 7.0 MB/s eta 0:00:01\n",
      "   ------- -------------------------------- 1.3/7.0 MB 7.0 MB/s eta 0:00:01\n",
      "   --------- ------------------------------ 1.6/7.0 MB 6.8 MB/s eta 0:00:01\n",
      "   ----------- ---------------------------- 1.9/7.0 MB 6.9 MB/s eta 0:00:01\n",
      "   ------------ --------------------------- 2.2/7.0 MB 6.7 MB/s eta 0:00:01\n",
      "   ------------- -------------------------- 2.4/7.0 MB 6.5 MB/s eta 0:00:01\n",
      "   --------------- ------------------------ 2.7/7.0 MB 6.3 MB/s eta 0:00:01\n",
      "   ---------------- ----------------------- 3.0/7.0 MB 6.3 MB/s eta 0:00:01\n",
      "   ------------------ --------------------- 3.2/7.0 MB 6.4 MB/s eta 0:00:01\n",
      "   ------------------- -------------------- 3.4/7.0 MB 6.2 MB/s eta 0:00:01\n",
      "   -------------------- ------------------- 3.6/7.0 MB 6.0 MB/s eta 0:00:01\n",
      "   --------------------- ------------------ 3.7/7.0 MB 5.8 MB/s eta 0:00:01\n",
      "   ---------------------- ----------------- 3.9/7.0 MB 5.7 MB/s eta 0:00:01\n",
      "   ---------------------- ----------------- 4.0/7.0 MB 5.4 MB/s eta 0:00:01\n",
      "   ----------------------- ---------------- 4.1/7.0 MB 5.1 MB/s eta 0:00:01\n",
      "   ----------------------- ---------------- 4.2/7.0 MB 4.9 MB/s eta 0:00:01\n",
      "   ------------------------ --------------- 4.2/7.0 MB 4.8 MB/s eta 0:00:01\n",
      "   ------------------------ --------------- 4.3/7.0 MB 4.7 MB/s eta 0:00:01\n",
      "   ------------------------- -------------- 4.4/7.0 MB 4.5 MB/s eta 0:00:01\n",
      "   ------------------------- -------------- 4.5/7.0 MB 4.4 MB/s eta 0:00:01\n",
      "   ------------------------- -------------- 4.5/7.0 MB 4.3 MB/s eta 0:00:01\n",
      "   -------------------------- ------------- 4.7/7.0 MB 4.2 MB/s eta 0:00:01\n",
      "   --------------------------- ------------ 4.8/7.0 MB 4.1 MB/s eta 0:00:01\n",
      "   ---------------------------- ----------- 4.9/7.0 MB 4.1 MB/s eta 0:00:01\n",
      "   ----------------------------- ---------- 5.1/7.0 MB 4.1 MB/s eta 0:00:01\n",
      "   ------------------------------ --------- 5.3/7.0 MB 4.1 MB/s eta 0:00:01\n",
      "   ------------------------------- -------- 5.4/7.0 MB 4.1 MB/s eta 0:00:01\n",
      "   -------------------------------- ------- 5.7/7.0 MB 4.1 MB/s eta 0:00:01\n",
      "   --------------------------------- ------ 5.9/7.0 MB 4.1 MB/s eta 0:00:01\n",
      "   ----------------------------------- ---- 6.1/7.0 MB 4.2 MB/s eta 0:00:01\n",
      "   ------------------------------------ --- 6.4/7.0 MB 4.2 MB/s eta 0:00:01\n",
      "   ------------------------------------- -- 6.6/7.0 MB 4.2 MB/s eta 0:00:01\n",
      "   -------------------------------------- - 6.8/7.0 MB 4.3 MB/s eta 0:00:01\n",
      "   ---------------------------------------  7.0/7.0 MB 4.2 MB/s eta 0:00:01\n",
      "   ---------------------------------------- 7.0/7.0 MB 4.1 MB/s eta 0:00:00\n",
      "Using cached sympy-1.14.0-py3-none-any.whl (6.3 MB)\n",
      "Downloading filelock-3.20.0-py3-none-any.whl (16 kB)\n",
      "Using cached jinja2-3.1.6-py3-none-any.whl (134 kB)\n",
      "Downloading numpy-2.3.4-cp311-cp311-win_amd64.whl (13.1 MB)\n",
      "   ---------------------------------------- 0.0/13.1 MB ? eta -:--:--\n",
      "   - -------------------------------------- 0.4/13.1 MB 7.6 MB/s eta 0:00:02\n",
      "   - -------------------------------------- 0.6/13.1 MB 5.9 MB/s eta 0:00:03\n",
      "   -- ------------------------------------- 1.0/13.1 MB 6.9 MB/s eta 0:00:02\n",
      "   ---- ----------------------------------- 1.3/13.1 MB 7.7 MB/s eta 0:00:02\n",
      "   ----- ---------------------------------- 1.8/13.1 MB 8.2 MB/s eta 0:00:02\n",
      "   ------ --------------------------------- 2.1/13.1 MB 8.0 MB/s eta 0:00:02\n",
      "   ------- -------------------------------- 2.6/13.1 MB 8.3 MB/s eta 0:00:02\n",
      "   --------- ------------------------------ 2.9/13.1 MB 8.2 MB/s eta 0:00:02\n",
      "   --------- ------------------------------ 3.1/13.1 MB 8.0 MB/s eta 0:00:02\n",
      "   ---------- ----------------------------- 3.4/13.1 MB 7.7 MB/s eta 0:00:02\n",
      "   ---------- ----------------------------- 3.5/13.1 MB 7.2 MB/s eta 0:00:02\n",
      "   ----------- ---------------------------- 3.8/13.1 MB 7.1 MB/s eta 0:00:02\n",
      "   ------------ --------------------------- 4.0/13.1 MB 6.9 MB/s eta 0:00:02\n",
      "   ------------ --------------------------- 4.0/13.1 MB 6.9 MB/s eta 0:00:02\n",
      "   ------------ --------------------------- 4.1/13.1 MB 6.2 MB/s eta 0:00:02\n",
      "   ------------- -------------------------- 4.3/13.1 MB 5.9 MB/s eta 0:00:02\n",
      "   ------------- -------------------------- 4.4/13.1 MB 5.8 MB/s eta 0:00:02\n",
      "   ------------- -------------------------- 4.5/13.1 MB 5.6 MB/s eta 0:00:02\n",
      "   -------------- ------------------------- 4.6/13.1 MB 5.5 MB/s eta 0:00:02\n",
      "   -------------- ------------------------- 4.7/13.1 MB 5.4 MB/s eta 0:00:02\n",
      "   -------------- ------------------------- 4.8/13.1 MB 5.2 MB/s eta 0:00:02\n",
      "   --------------- ------------------------ 5.0/13.1 MB 5.1 MB/s eta 0:00:02\n",
      "   --------------- ------------------------ 5.1/13.1 MB 5.0 MB/s eta 0:00:02\n",
      "   --------------- ------------------------ 5.2/13.1 MB 4.9 MB/s eta 0:00:02\n",
      "   ---------------- ----------------------- 5.3/13.1 MB 4.9 MB/s eta 0:00:02\n",
      "   ---------------- ----------------------- 5.5/13.1 MB 4.8 MB/s eta 0:00:02\n",
      "   ----------------- ---------------------- 5.6/13.1 MB 4.7 MB/s eta 0:00:02\n",
      "   ----------------- ---------------------- 5.8/13.1 MB 4.7 MB/s eta 0:00:02\n",
      "   ------------------ --------------------- 6.0/13.1 MB 4.7 MB/s eta 0:00:02\n",
      "   ------------------- -------------------- 6.3/13.1 MB 4.7 MB/s eta 0:00:02\n",
      "   ------------------- -------------------- 6.5/13.1 MB 4.8 MB/s eta 0:00:02\n",
      "   -------------------- ------------------- 6.7/13.1 MB 4.8 MB/s eta 0:00:02\n",
      "   --------------------- ------------------ 7.0/13.1 MB 4.8 MB/s eta 0:00:02\n",
      "   ---------------------- ----------------- 7.3/13.1 MB 4.8 MB/s eta 0:00:02\n",
      "   ----------------------- ---------------- 7.6/13.1 MB 4.9 MB/s eta 0:00:02\n",
      "   ----------------------- ---------------- 7.8/13.1 MB 4.9 MB/s eta 0:00:02\n",
      "   ------------------------ --------------- 8.1/13.1 MB 5.0 MB/s eta 0:00:02\n",
      "   ------------------------- -------------- 8.2/13.1 MB 4.9 MB/s eta 0:00:01\n",
      "   ------------------------- -------------- 8.4/13.1 MB 4.9 MB/s eta 0:00:01\n",
      "   --------------------------- ------------ 8.8/13.1 MB 5.0 MB/s eta 0:00:01\n",
      "   --------------------------- ------------ 9.1/13.1 MB 5.0 MB/s eta 0:00:01\n",
      "   ---------------------------- ----------- 9.3/13.1 MB 5.0 MB/s eta 0:00:01\n",
      "   ---------------------------- ----------- 9.5/13.1 MB 5.0 MB/s eta 0:00:01\n",
      "   ----------------------------- ---------- 9.7/13.1 MB 5.0 MB/s eta 0:00:01\n",
      "   ------------------------------ --------- 9.9/13.1 MB 4.9 MB/s eta 0:00:01\n",
      "   ------------------------------ --------- 10.1/13.1 MB 4.9 MB/s eta 0:00:01\n",
      "   ------------------------------- -------- 10.2/13.1 MB 4.9 MB/s eta 0:00:01\n",
      "   ------------------------------- -------- 10.3/13.1 MB 4.8 MB/s eta 0:00:01\n",
      "   ------------------------------- -------- 10.4/13.1 MB 4.8 MB/s eta 0:00:01\n",
      "   ------------------------------- -------- 10.5/13.1 MB 4.7 MB/s eta 0:00:01\n",
      "   -------------------------------- ------- 10.6/13.1 MB 4.6 MB/s eta 0:00:01\n",
      "   -------------------------------- ------- 10.7/13.1 MB 4.5 MB/s eta 0:00:01\n",
      "   -------------------------------- ------- 10.8/13.1 MB 4.5 MB/s eta 0:00:01\n",
      "   --------------------------------- ------ 10.9/13.1 MB 4.4 MB/s eta 0:00:01\n",
      "   --------------------------------- ------ 11.0/13.1 MB 4.4 MB/s eta 0:00:01\n",
      "   ---------------------------------- ----- 11.2/13.1 MB 4.3 MB/s eta 0:00:01\n",
      "   ---------------------------------- ----- 11.4/13.1 MB 4.3 MB/s eta 0:00:01\n",
      "   ----------------------------------- ---- 11.5/13.1 MB 4.2 MB/s eta 0:00:01\n",
      "   ----------------------------------- ---- 11.7/13.1 MB 4.1 MB/s eta 0:00:01\n",
      "   ------------------------------------ --- 12.0/13.1 MB 4.1 MB/s eta 0:00:01\n",
      "   ------------------------------------- -- 12.2/13.1 MB 4.1 MB/s eta 0:00:01\n",
      "   -------------------------------------- - 12.6/13.1 MB 4.1 MB/s eta 0:00:01\n",
      "   ---------------------------------------  12.9/13.1 MB 4.0 MB/s eta 0:00:01\n",
      "   ---------------------------------------  13.1/13.1 MB 4.0 MB/s eta 0:00:01\n",
      "   ---------------------------------------- 13.1/13.1 MB 4.0 MB/s eta 0:00:00\n",
      "Downloading markupsafe-3.0.3-cp311-cp311-win_amd64.whl (15 kB)\n",
      "Using cached mpmath-1.3.0-py3-none-any.whl (536 kB)\n",
      "Installing collected packages: mpmath, sympy, pillow, numpy, networkx, MarkupSafe, fsspec, filelock, jinja2, torch, torchvision, torchaudio\n",
      "Successfully installed MarkupSafe-3.0.3 filelock-3.20.0 fsspec-2025.9.0 jinja2-3.1.6 mpmath-1.3.0 networkx-3.5 numpy-2.3.4 pillow-12.0.0 sympy-1.14.0 torch-2.9.0 torchaudio-2.9.0 torchvision-0.24.0\n"
     ]
    },
    {
     "name": "stderr",
     "output_type": "stream",
     "text": [
      "\n",
      "[notice] A new release of pip is available: 24.0 -> 25.2\n",
      "[notice] To update, run: python.exe -m pip install --upgrade pip\n"
     ]
    }
   ],
   "source": [
    "!pip install torch torchvision torchaudio"
   ]
  },
  {
   "cell_type": "code",
   "execution_count": null,
   "id": "4926dc5b",
   "metadata": {},
   "outputs": [
    {
     "ename": "NameError",
     "evalue": "name 'txt' is not defined",
     "output_type": "error",
     "traceback": [
      "\u001b[31m---------------------------------------------------------------------------\u001b[39m",
      "\u001b[31mNameError\u001b[39m                                 Traceback (most recent call last)",
      "\u001b[36mCell\u001b[39m\u001b[36m \u001b[39m\u001b[32mIn[62]\u001b[39m\u001b[32m, line 3\u001b[39m\n\u001b[32m      1\u001b[39m \u001b[38;5;28;01mfrom\u001b[39;00m\u001b[38;5;250m \u001b[39m\u001b[34;01mtorch\u001b[39;00m\u001b[34;01m.\u001b[39;00m\u001b[34;01mutils\u001b[39;00m\u001b[34;01m.\u001b[39;00m\u001b[34;01mdata\u001b[39;00m\u001b[38;5;250m \u001b[39m\u001b[38;5;28;01mimport\u001b[39;00m Dataset, DataLoader\n\u001b[32m----> \u001b[39m\u001b[32m3\u001b[39m \u001b[38;5;28;43;01mclass\u001b[39;49;00m\u001b[38;5;250;43m \u001b[39;49m\u001b[34;43;01mGPTDatasetV1\u001b[39;49;00m\u001b[43m(\u001b[49m\u001b[43mDataset\u001b[49m\u001b[43m)\u001b[49m\u001b[43m:\u001b[49m\n\u001b[32m      4\u001b[39m \u001b[43m    \u001b[49m\u001b[38;5;28;43;01mdef\u001b[39;49;00m\u001b[38;5;250;43m \u001b[39;49m\u001b[34;43m__init__\u001b[39;49m\u001b[43m(\u001b[49m\u001b[38;5;28;43mself\u001b[39;49m\u001b[43m,\u001b[49m\u001b[43m \u001b[49m\u001b[43mtxt\u001b[49m\u001b[43m,\u001b[49m\u001b[43m \u001b[49m\u001b[43mtokenizeer\u001b[49m\u001b[43m,\u001b[49m\u001b[43m \u001b[49m\u001b[43mmax_length\u001b[49m\u001b[43m,\u001b[49m\u001b[43m \u001b[49m\u001b[43mstride\u001b[49m\u001b[43m)\u001b[49m\u001b[43m:\u001b[49m\n\u001b[32m      5\u001b[39m \u001b[43m        \u001b[49m\u001b[38;5;28;43mself\u001b[39;49m\u001b[43m.\u001b[49m\u001b[43minput_ids\u001b[49m\u001b[43m \u001b[49m\u001b[43m=\u001b[49m\u001b[43m \u001b[49m\u001b[43m[\u001b[49m\u001b[43m]\u001b[49m\n",
      "\u001b[36mCell\u001b[39m\u001b[36m \u001b[39m\u001b[32mIn[62]\u001b[39m\u001b[32m, line 8\u001b[39m, in \u001b[36mGPTDatasetV1\u001b[39m\u001b[34m()\u001b[39m\n\u001b[32m      5\u001b[39m     \u001b[38;5;28mself\u001b[39m.input_ids = []\n\u001b[32m      6\u001b[39m     \u001b[38;5;28mself\u001b[39m.target_ids = []\n\u001b[32m----> \u001b[39m\u001b[32m8\u001b[39m token_ids = tokenizer.encode(\u001b[43mtxt\u001b[49m, allowed_special={\u001b[33m\"\u001b[39m\u001b[33m<|endoftext|>\u001b[39m\u001b[33m\"\u001b[39m})\n\u001b[32m     10\u001b[39m \u001b[38;5;28;01mfor\u001b[39;00m i \u001b[38;5;129;01min\u001b[39;00m \u001b[38;5;28mrange\u001b[39m(\u001b[32m0\u001b[39m, \u001b[38;5;28mlen\u001b[39m(token_ids) - max_length, stride):\n\u001b[32m     11\u001b[39m     input_chunk = token_ids[i:i+max_length]\n",
      "\u001b[31mNameError\u001b[39m: name 'txt' is not defined"
     ]
    }
   ],
   "source": [
    "from torch.utils.data import Dataset, DataLoader\n",
    "\n",
    "class GPTDatasetV1(Dataset):\n",
    "    def __init__(self, txt, tokenizeer, max_length, stride):\n",
    "        self.input_ids = []\n",
    "        self.target_ids = []\n",
    "\n",
    "    token_ids = tokenizer.encode(txt, allowed_special={\"<|endoftext|>\"})\n",
    "\n",
    "    for i in range(0, len(token_ids) - max_length, stride):\n",
    "        input_chunk = token_ids[i:i+max_length]\n",
    "        target_chunk = token_ids[i+1:i+max_length]\n",
    "        self.input_ids.append(torch.tensor(input_chunk))\n",
    "        self.target_ids.append(torch.tensor(target))\n",
    "\n",
    "    def __len__(self):\n",
    "        return len(self.input_ids)\n",
    "    \n",
    "\n",
    "    def __getitem(self, idx):\n",
    "        return self.input_ids[idx], self.target_ids[idx]"
   ]
  },
  {
   "cell_type": "code",
   "execution_count": 31,
   "id": "7fce552f",
   "metadata": {},
   "outputs": [],
   "source": [
    "def create_dataloader_v1(txt, batch_size=4, max_length=256,stride=128,shuffle=True, drop_last=True,num_workers=0):\n",
    "\n",
    "\n",
    "    tokenizer = tiktoken.get_encoding(\"gpt2\")\n",
    "    dataset = GPTDatasetV1(txt, tokenizer, max_length, stride)\n",
    "\n",
    "    dataloader = DataLoader(\n",
    "        dataset,\n",
    "        batch_size=batch_size,\n",
    "        shuffle=shuffle,\n",
    "        drop_last=drop_last,\n",
    "        num_workers=num_workers\n",
    "    )\n",
    "\n",
    "    return dataloader"
   ]
  },
  {
   "cell_type": "code",
   "execution_count": 32,
   "id": "efaf822e",
   "metadata": {},
   "outputs": [
    {
     "ename": "FileNotFoundError",
     "evalue": "[Errno 2] No such file or directory: 'the-verdict.txt'",
     "output_type": "error",
     "traceback": [
      "\u001b[31m---------------------------------------------------------------------------\u001b[39m",
      "\u001b[31mFileNotFoundError\u001b[39m                         Traceback (most recent call last)",
      "\u001b[36mCell\u001b[39m\u001b[36m \u001b[39m\u001b[32mIn[32]\u001b[39m\u001b[32m, line 1\u001b[39m\n\u001b[32m----> \u001b[39m\u001b[32m1\u001b[39m \u001b[38;5;28;01mwith\u001b[39;00m \u001b[38;5;28;43mopen\u001b[39;49m\u001b[43m(\u001b[49m\u001b[33;43m\"\u001b[39;49m\u001b[33;43mthe-verdict.txt\u001b[39;49m\u001b[33;43m\"\u001b[39;49m\u001b[43m,\u001b[49m\u001b[43m \u001b[49m\u001b[33;43m\"\u001b[39;49m\u001b[33;43mr\u001b[39;49m\u001b[33;43m\"\u001b[39;49m\u001b[43m,\u001b[49m\u001b[43m \u001b[49m\u001b[43mencoding\u001b[49m\u001b[43m=\u001b[49m\u001b[33;43m\"\u001b[39;49m\u001b[33;43mutf-8\u001b[39;49m\u001b[33;43m\"\u001b[39;49m\u001b[43m)\u001b[49m \u001b[38;5;28;01mas\u001b[39;00m f:\n\u001b[32m      2\u001b[39m     raw_text = f.read()\n",
      "\u001b[36mFile \u001b[39m\u001b[32md:\\LLM From Scratch\\llm\\Lib\\site-packages\\IPython\\core\\interactiveshell.py:343\u001b[39m, in \u001b[36m_modified_open\u001b[39m\u001b[34m(file, *args, **kwargs)\u001b[39m\n\u001b[32m    336\u001b[39m \u001b[38;5;28;01mif\u001b[39;00m file \u001b[38;5;129;01min\u001b[39;00m {\u001b[32m0\u001b[39m, \u001b[32m1\u001b[39m, \u001b[32m2\u001b[39m}:\n\u001b[32m    337\u001b[39m     \u001b[38;5;28;01mraise\u001b[39;00m \u001b[38;5;167;01mValueError\u001b[39;00m(\n\u001b[32m    338\u001b[39m         \u001b[33mf\u001b[39m\u001b[33m\"\u001b[39m\u001b[33mIPython won\u001b[39m\u001b[33m'\u001b[39m\u001b[33mt let you open fd=\u001b[39m\u001b[38;5;132;01m{\u001b[39;00mfile\u001b[38;5;132;01m}\u001b[39;00m\u001b[33m by default \u001b[39m\u001b[33m\"\u001b[39m\n\u001b[32m    339\u001b[39m         \u001b[33m\"\u001b[39m\u001b[33mas it is likely to crash IPython. If you know what you are doing, \u001b[39m\u001b[33m\"\u001b[39m\n\u001b[32m    340\u001b[39m         \u001b[33m\"\u001b[39m\u001b[33myou can use builtins\u001b[39m\u001b[33m'\u001b[39m\u001b[33m open.\u001b[39m\u001b[33m\"\u001b[39m\n\u001b[32m    341\u001b[39m     )\n\u001b[32m--> \u001b[39m\u001b[32m343\u001b[39m \u001b[38;5;28;01mreturn\u001b[39;00m \u001b[43mio_open\u001b[49m\u001b[43m(\u001b[49m\u001b[43mfile\u001b[49m\u001b[43m,\u001b[49m\u001b[43m \u001b[49m\u001b[43m*\u001b[49m\u001b[43margs\u001b[49m\u001b[43m,\u001b[49m\u001b[43m \u001b[49m\u001b[43m*\u001b[49m\u001b[43m*\u001b[49m\u001b[43mkwargs\u001b[49m\u001b[43m)\u001b[49m\n",
      "\u001b[31mFileNotFoundError\u001b[39m: [Errno 2] No such file or directory: 'the-verdict.txt'"
     ]
    }
   ],
   "source": [
    "with open(\"the-verdict.txt\", \"r\", encoding=\"utf-8\") as f:\n",
    "    raw_text = f.read()"
   ]
  },
  {
   "cell_type": "code",
   "execution_count": 33,
   "metadata": {},
   "outputs": [
    {
     "name": "stdout",
     "output_type": "stream",
     "text": [
      "PyTorch version: 2.9.0+cpu\n"
     ]
    },
    {
     "ename": "NameError",
     "evalue": "name 'GPTDatasetV1' is not defined",
     "output_type": "error",
     "traceback": [
      "\u001b[31m---------------------------------------------------------------------------\u001b[39m",
      "\u001b[31mNameError\u001b[39m                                 Traceback (most recent call last)",
      "\u001b[36mCell\u001b[39m\u001b[36m \u001b[39m\u001b[32mIn[33]\u001b[39m\u001b[32m, line 3\u001b[39m\n\u001b[32m      1\u001b[39m \u001b[38;5;28;01mimport\u001b[39;00m\u001b[38;5;250m \u001b[39m\u001b[34;01mtorch\u001b[39;00m\n\u001b[32m      2\u001b[39m \u001b[38;5;28mprint\u001b[39m(\u001b[33m\"\u001b[39m\u001b[33mPyTorch version:\u001b[39m\u001b[33m\"\u001b[39m, torch.__version__)\n\u001b[32m----> \u001b[39m\u001b[32m3\u001b[39m dataloader = \u001b[43mcreate_dataloader_v1\u001b[49m\u001b[43m(\u001b[49m\n\u001b[32m      4\u001b[39m \u001b[43m    \u001b[49m\u001b[43mraw_text\u001b[49m\u001b[43m,\u001b[49m\u001b[43m \u001b[49m\u001b[43mbatch_size\u001b[49m\u001b[43m=\u001b[49m\u001b[32;43m1\u001b[39;49m\u001b[43m,\u001b[49m\u001b[43m \u001b[49m\u001b[43mmax_length\u001b[49m\u001b[43m=\u001b[49m\u001b[32;43m4\u001b[39;49m\u001b[43m,\u001b[49m\u001b[43m \u001b[49m\u001b[43mstride\u001b[49m\u001b[43m=\u001b[49m\u001b[32;43m1\u001b[39;49m\u001b[43m,\u001b[49m\u001b[43m \u001b[49m\u001b[43mshuffle\u001b[49m\u001b[43m=\u001b[49m\u001b[38;5;28;43;01mFalse\u001b[39;49;00m\n\u001b[32m      5\u001b[39m \u001b[43m)\u001b[49m\n\u001b[32m      7\u001b[39m data_iter = \u001b[38;5;28miter\u001b[39m(dataloader)\n\u001b[32m      8\u001b[39m first_batch = \u001b[38;5;28mnext\u001b[39m(data_iter)\n",
      "\u001b[36mCell\u001b[39m\u001b[36m \u001b[39m\u001b[32mIn[31]\u001b[39m\u001b[32m, line 5\u001b[39m, in \u001b[36mcreate_dataloader_v1\u001b[39m\u001b[34m(txt, batch_size, max_length, stride, shuffle, drop_last, num_workers)\u001b[39m\n\u001b[32m      1\u001b[39m \u001b[38;5;28;01mdef\u001b[39;00m\u001b[38;5;250m \u001b[39m\u001b[34mcreate_dataloader_v1\u001b[39m(txt, batch_size=\u001b[32m4\u001b[39m, max_length=\u001b[32m256\u001b[39m,stride=\u001b[32m128\u001b[39m,shuffle=\u001b[38;5;28;01mTrue\u001b[39;00m, drop_last=\u001b[38;5;28;01mTrue\u001b[39;00m,num_workers=\u001b[32m0\u001b[39m):\n\u001b[32m      4\u001b[39m     tokenizer = tiktoken.get_encoding(\u001b[33m\"\u001b[39m\u001b[33mgpt2\u001b[39m\u001b[33m\"\u001b[39m)\n\u001b[32m----> \u001b[39m\u001b[32m5\u001b[39m     dataset = \u001b[43mGPTDatasetV1\u001b[49m(txt, tokenizer, max_length, stride)\n\u001b[32m      7\u001b[39m     dataloader = DataLoader(\n\u001b[32m      8\u001b[39m         dataset,\n\u001b[32m      9\u001b[39m         batch_size=batch_size,\n\u001b[32m   (...)\u001b[39m\u001b[32m     12\u001b[39m         num_workers=num_workers\n\u001b[32m     13\u001b[39m     )\n\u001b[32m     15\u001b[39m     \u001b[38;5;28;01mreturn\u001b[39;00m dataloader\n",
      "\u001b[31mNameError\u001b[39m: name 'GPTDatasetV1' is not defined"
     ]
    }
   ],
   "source": [
    "import torch\n",
    "print(\"PyTorch version:\", torch.__version__)\n",
    "dataloader = create_dataloader_v1(\n",
    "    raw_text, batch_size=1, max_length=4, stride=1, shuffle=False\n",
    ")\n",
    "\n",
    "data_iter = iter(dataloader)\n",
    "first_batch = next(data_iter)\n",
    "print(first_batch)"
   ]
  },
  {
   "cell_type": "code",
   "execution_count": 34,
   "id": "7d990c0e",
   "metadata": {},
   "outputs": [
    {
     "ename": "NameError",
     "evalue": "name 'data_iter' is not defined",
     "output_type": "error",
     "traceback": [
      "\u001b[31m---------------------------------------------------------------------------\u001b[39m",
      "\u001b[31mNameError\u001b[39m                                 Traceback (most recent call last)",
      "\u001b[36mCell\u001b[39m\u001b[36m \u001b[39m\u001b[32mIn[34]\u001b[39m\u001b[32m, line 1\u001b[39m\n\u001b[32m----> \u001b[39m\u001b[32m1\u001b[39m second_batch = \u001b[38;5;28mnext\u001b[39m(\u001b[43mdata_iter\u001b[49m)\n\u001b[32m      2\u001b[39m \u001b[38;5;28mprint\u001b[39m(second_batch)\n",
      "\u001b[31mNameError\u001b[39m: name 'data_iter' is not defined"
     ]
    }
   ],
   "source": [
    "second_batch = next(data_iter)\n",
    "print(second_batch)"
   ]
  },
  {
   "cell_type": "code",
   "execution_count": 35,
   "metadata": {},
   "outputs": [
    {
     "ename": "NameError",
     "evalue": "name 'GPTDatasetV1' is not defined",
     "output_type": "error",
     "traceback": [
      "\u001b[31m---------------------------------------------------------------------------\u001b[39m",
      "\u001b[31mNameError\u001b[39m                                 Traceback (most recent call last)",
      "\u001b[36mCell\u001b[39m\u001b[36m \u001b[39m\u001b[32mIn[35]\u001b[39m\u001b[32m, line 1\u001b[39m\n\u001b[32m----> \u001b[39m\u001b[32m1\u001b[39m dataloader = \u001b[43mcreate_dataloader_v1\u001b[49m\u001b[43m(\u001b[49m\u001b[43mraw_text\u001b[49m\u001b[43m,\u001b[49m\u001b[43m \u001b[49m\u001b[43mbatch_size\u001b[49m\u001b[43m=\u001b[49m\u001b[32;43m8\u001b[39;49m\u001b[43m,\u001b[49m\u001b[43m \u001b[49m\u001b[43mmax_length\u001b[49m\u001b[43m=\u001b[49m\u001b[32;43m4\u001b[39;49m\u001b[43m,\u001b[49m\u001b[43m \u001b[49m\u001b[43mstride\u001b[49m\u001b[43m=\u001b[49m\u001b[32;43m4\u001b[39;49m\u001b[43m,\u001b[49m\u001b[43m \u001b[49m\u001b[43mshuffle\u001b[49m\u001b[43m=\u001b[49m\u001b[38;5;28;43;01mFalse\u001b[39;49;00m\u001b[43m)\u001b[49m\n\u001b[32m      3\u001b[39m data_iter = \u001b[38;5;28miter\u001b[39m(dataloader)\n\u001b[32m      4\u001b[39m inputs, targets = \u001b[38;5;28mnext\u001b[39m(data_iter)\n",
      "\u001b[36mCell\u001b[39m\u001b[36m \u001b[39m\u001b[32mIn[31]\u001b[39m\u001b[32m, line 5\u001b[39m, in \u001b[36mcreate_dataloader_v1\u001b[39m\u001b[34m(txt, batch_size, max_length, stride, shuffle, drop_last, num_workers)\u001b[39m\n\u001b[32m      1\u001b[39m \u001b[38;5;28;01mdef\u001b[39;00m\u001b[38;5;250m \u001b[39m\u001b[34mcreate_dataloader_v1\u001b[39m(txt, batch_size=\u001b[32m4\u001b[39m, max_length=\u001b[32m256\u001b[39m,stride=\u001b[32m128\u001b[39m,shuffle=\u001b[38;5;28;01mTrue\u001b[39;00m, drop_last=\u001b[38;5;28;01mTrue\u001b[39;00m,num_workers=\u001b[32m0\u001b[39m):\n\u001b[32m      4\u001b[39m     tokenizer = tiktoken.get_encoding(\u001b[33m\"\u001b[39m\u001b[33mgpt2\u001b[39m\u001b[33m\"\u001b[39m)\n\u001b[32m----> \u001b[39m\u001b[32m5\u001b[39m     dataset = \u001b[43mGPTDatasetV1\u001b[49m(txt, tokenizer, max_length, stride)\n\u001b[32m      7\u001b[39m     dataloader = DataLoader(\n\u001b[32m      8\u001b[39m         dataset,\n\u001b[32m      9\u001b[39m         batch_size=batch_size,\n\u001b[32m   (...)\u001b[39m\u001b[32m     12\u001b[39m         num_workers=num_workers\n\u001b[32m     13\u001b[39m     )\n\u001b[32m     15\u001b[39m     \u001b[38;5;28;01mreturn\u001b[39;00m dataloader\n",
      "\u001b[31mNameError\u001b[39m: name 'GPTDatasetV1' is not defined"
     ]
    }
   ],
   "source": [
    "dataloader = create_dataloader_v1(raw_text, batch_size=8, max_length=4, stride=4, shuffle=False)\n",
    "\n",
    "data_iter = iter(dataloader)\n",
    "inputs, targets = next(data_iter)\n",
    "print(\"Inputs:\\n\", inputs)\n",
    "print(\"\\nTargets:\\n\", targets)"
   ]
  },
  {
   "cell_type": "markdown",
   "id": "cd8d2733",
   "metadata": {},
   "source": [
    "## Token Embeddings"
   ]
  },
  {
   "cell_type": "code",
   "execution_count": 63,
   "id": "fc85b4f2",
   "metadata": {},
   "outputs": [],
   "source": [
    "input_ids = torch.tensor([2,3,5,1])"
   ]
  },
  {
   "cell_type": "code",
   "execution_count": 64,
   "metadata": {},
   "outputs": [],
   "source": [
    "vocab_size = 6\n",
    "output_dim = 3\n",
    "\n",
    "torch.manual_seed(42)\n",
    "embedding_layer = torch.nn.Embedding(vocab_size, output_dim)"
   ]
  },
  {
   "cell_type": "code",
   "execution_count": 66,
   "id": "364591b6",
   "metadata": {},
   "outputs": [
    {
     "name": "stdout",
     "output_type": "stream",
     "text": [
      "tensor([[-0.6866,  0.6105,  1.3347]], grad_fn=<EmbeddingBackward0>)\n"
     ]
    }
   ],
   "source": [
    "print(embedding_layer(torch.tensor([3])))"
   ]
  },
  {
   "cell_type": "code",
   "execution_count": 67,
   "id": "b9c230db",
   "metadata": {},
   "outputs": [
    {
     "name": "stdout",
     "output_type": "stream",
     "text": [
      "tensor([[ 0.8008,  1.6806,  0.3559],\n",
      "        [-0.6866,  0.6105,  1.3347],\n",
      "        [ 0.8599, -0.3097, -0.3957],\n",
      "        [ 0.4396, -0.7581,  1.0783]], grad_fn=<EmbeddingBackward0>)\n"
     ]
    }
   ],
   "source": [
    "print(embedding_layer(input_ids))"
   ]
  },
  {
   "cell_type": "markdown",
   "id": "08d11ea2",
   "metadata": {},
   "source": [
    "## Positional Embeddings"
   ]
  },
  {
   "cell_type": "code",
   "execution_count": 68,
   "id": "0112a455",
   "metadata": {},
   "outputs": [],
   "source": [
    "vocab_size = 50527\n",
    "output_dim = 256\n",
    "\n",
    "token_embedding_layer = torch.nn.Embedding(vocab_size, output_dim)"
   ]
  },
  {
   "cell_type": "code",
   "execution_count": 69,
   "id": "c77330d8",
   "metadata": {},
   "outputs": [
    {
     "ename": "NameError",
     "evalue": "name 'GPTDatasetV1' is not defined",
     "output_type": "error",
     "traceback": [
      "\u001b[31m---------------------------------------------------------------------------\u001b[39m",
      "\u001b[31mNameError\u001b[39m                                 Traceback (most recent call last)",
      "\u001b[36mCell\u001b[39m\u001b[36m \u001b[39m\u001b[32mIn[69]\u001b[39m\u001b[32m, line 2\u001b[39m\n\u001b[32m      1\u001b[39m max_length = \u001b[32m4\u001b[39m\n\u001b[32m----> \u001b[39m\u001b[32m2\u001b[39m dataloader = \u001b[43mcreate_dataloader_v1\u001b[49m\u001b[43m(\u001b[49m\n\u001b[32m      3\u001b[39m \u001b[43m    \u001b[49m\u001b[43mraw_text\u001b[49m\u001b[43m,\u001b[49m\u001b[43m \u001b[49m\u001b[43mbatch_size\u001b[49m\u001b[43m=\u001b[49m\u001b[32;43m8\u001b[39;49m\u001b[43m,\u001b[49m\u001b[43m \u001b[49m\u001b[43mmax_length\u001b[49m\u001b[43m=\u001b[49m\u001b[32;43m8\u001b[39;49m\u001b[43m,\u001b[49m\n\u001b[32m      4\u001b[39m \u001b[43m    \u001b[49m\u001b[43mstride\u001b[49m\u001b[43m=\u001b[49m\u001b[43mmax_length\u001b[49m\u001b[43m,\u001b[49m\u001b[43m \u001b[49m\u001b[43mshuffle\u001b[49m\u001b[43m=\u001b[49m\u001b[38;5;28;43;01mFalse\u001b[39;49;00m\n\u001b[32m      5\u001b[39m \u001b[43m)\u001b[49m\n\u001b[32m      7\u001b[39m data_iter = \u001b[38;5;28miter\u001b[39m(dataloader)\n\u001b[32m      8\u001b[39m inputs, targets = \u001b[38;5;28mnext\u001b[39m(data_iter)\n",
      "\u001b[36mCell\u001b[39m\u001b[36m \u001b[39m\u001b[32mIn[31]\u001b[39m\u001b[32m, line 5\u001b[39m, in \u001b[36mcreate_dataloader_v1\u001b[39m\u001b[34m(txt, batch_size, max_length, stride, shuffle, drop_last, num_workers)\u001b[39m\n\u001b[32m      1\u001b[39m \u001b[38;5;28;01mdef\u001b[39;00m\u001b[38;5;250m \u001b[39m\u001b[34mcreate_dataloader_v1\u001b[39m(txt, batch_size=\u001b[32m4\u001b[39m, max_length=\u001b[32m256\u001b[39m,stride=\u001b[32m128\u001b[39m,shuffle=\u001b[38;5;28;01mTrue\u001b[39;00m, drop_last=\u001b[38;5;28;01mTrue\u001b[39;00m,num_workers=\u001b[32m0\u001b[39m):\n\u001b[32m      4\u001b[39m     tokenizer = tiktoken.get_encoding(\u001b[33m\"\u001b[39m\u001b[33mgpt2\u001b[39m\u001b[33m\"\u001b[39m)\n\u001b[32m----> \u001b[39m\u001b[32m5\u001b[39m     dataset = \u001b[43mGPTDatasetV1\u001b[49m(txt, tokenizer, max_length, stride)\n\u001b[32m      7\u001b[39m     dataloader = DataLoader(\n\u001b[32m      8\u001b[39m         dataset,\n\u001b[32m      9\u001b[39m         batch_size=batch_size,\n\u001b[32m   (...)\u001b[39m\u001b[32m     12\u001b[39m         num_workers=num_workers\n\u001b[32m     13\u001b[39m     )\n\u001b[32m     15\u001b[39m     \u001b[38;5;28;01mreturn\u001b[39;00m dataloader\n",
      "\u001b[31mNameError\u001b[39m: name 'GPTDatasetV1' is not defined"
     ]
    }
   ],
   "source": [
    "max_length = 4\n",
    "dataloader = create_dataloader_v1(\n",
    "    raw_text, batch_size=8, max_length=8,\n",
    "    stride=max_length, shuffle=False\n",
    ")\n",
    "\n",
    "data_iter = iter(dataloader)\n",
    "inputs, targets = next(data_iter)"
   ]
  },
  {
   "cell_type": "code",
   "execution_count": 70,
   "id": "b6cac214",
   "metadata": {},
   "outputs": [
    {
     "ename": "NameError",
     "evalue": "name 'inputs' is not defined",
     "output_type": "error",
     "traceback": [
      "\u001b[31m---------------------------------------------------------------------------\u001b[39m",
      "\u001b[31mNameError\u001b[39m                                 Traceback (most recent call last)",
      "\u001b[36mCell\u001b[39m\u001b[36m \u001b[39m\u001b[32mIn[70]\u001b[39m\u001b[32m, line 1\u001b[39m\n\u001b[32m----> \u001b[39m\u001b[32m1\u001b[39m \u001b[38;5;28mprint\u001b[39m(\u001b[33m\"\u001b[39m\u001b[33mToken IDs:\u001b[39m\u001b[38;5;130;01m\\n\u001b[39;00m\u001b[33m\"\u001b[39m, \u001b[43minputs\u001b[49m)\n\u001b[32m      2\u001b[39m \u001b[38;5;28mprint\u001b[39m(\u001b[33m\"\u001b[39m\u001b[38;5;130;01m\\n\u001b[39;00m\u001b[33mInputs shape:\u001b[39m\u001b[38;5;130;01m\\n\u001b[39;00m\u001b[33m\"\u001b[39m, inputs.shape)\n",
      "\u001b[31mNameError\u001b[39m: name 'inputs' is not defined"
     ]
    }
   ],
   "source": [
    "print(\"Token IDs:\\n\", inputs)\n",
    "print(\"\\nInputs shape:\\n\", inputs.shape)"
   ]
  },
  {
   "cell_type": "code",
   "execution_count": 71,
   "id": "a88e56bb",
   "metadata": {},
   "outputs": [
    {
     "ename": "NameError",
     "evalue": "name 'inputs' is not defined",
     "output_type": "error",
     "traceback": [
      "\u001b[31m---------------------------------------------------------------------------\u001b[39m",
      "\u001b[31mNameError\u001b[39m                                 Traceback (most recent call last)",
      "\u001b[36mCell\u001b[39m\u001b[36m \u001b[39m\u001b[32mIn[71]\u001b[39m\u001b[32m, line 1\u001b[39m\n\u001b[32m----> \u001b[39m\u001b[32m1\u001b[39m token_embeddings = token_embedding_layer(\u001b[43minputs\u001b[49m)\n\u001b[32m      2\u001b[39m \u001b[38;5;28mprint\u001b[39m(token_embeddings.shape)\n",
      "\u001b[31mNameError\u001b[39m: name 'inputs' is not defined"
     ]
    }
   ],
   "source": [
    "token_embeddings = token_embedding_layer(inputs)\n",
    "print(token_embeddings.shape)"
   ]
  },
  {
   "cell_type": "code",
   "execution_count": 72,
   "id": "00f3032c",
   "metadata": {},
   "outputs": [],
   "source": [
    "context_length = max_length\n",
    "pos_embedding_layer = torch.nn.Embedding(context_length, output_dim)"
   ]
  },
  {
   "cell_type": "code",
   "execution_count": 73,
   "id": "6960ca1e",
   "metadata": {},
   "outputs": [
    {
     "name": "stdout",
     "output_type": "stream",
     "text": [
      "torch.Size([4, 256])\n"
     ]
    }
   ],
   "source": [
    "pos_embeddings = pos_embedding_layer(torch.arange(max_length))\n",
    "print(pos_embeddings.shape)"
   ]
  },
  {
   "cell_type": "code",
   "execution_count": 74,
   "id": "2f3cf71b",
   "metadata": {},
   "outputs": [
    {
     "ename": "NameError",
     "evalue": "name 'token_embeddings' is not defined",
     "output_type": "error",
     "traceback": [
      "\u001b[31m---------------------------------------------------------------------------\u001b[39m",
      "\u001b[31mNameError\u001b[39m                                 Traceback (most recent call last)",
      "\u001b[36mCell\u001b[39m\u001b[36m \u001b[39m\u001b[32mIn[74]\u001b[39m\u001b[32m, line 1\u001b[39m\n\u001b[32m----> \u001b[39m\u001b[32m1\u001b[39m input_embeddings = \u001b[43mtoken_embeddings\u001b[49m + pos_embeddings\n\u001b[32m      2\u001b[39m \u001b[38;5;28mprint\u001b[39m(input_embeddings.shape)\n",
      "\u001b[31mNameError\u001b[39m: name 'token_embeddings' is not defined"
     ]
    }
   ],
   "source": [
    "input_embeddings = token_embeddings + pos_embeddings\n",
    "print(input_embeddings.shape)"
   ]
  },
  {
   "cell_type": "code",
   "execution_count": null,
   "id": "108237e6",
   "metadata": {},
   "outputs": [],
   "source": []
  }
 ],
 "metadata": {
  "kernelspec": {
   "display_name": "llm",
   "language": "python",
   "name": "python3"
  },
  "language_info": {
   "codemirror_mode": {
    "name": "ipython",
    "version": 3
   },
   "file_extension": ".py",
   "mimetype": "text/x-python",
   "name": "python",
   "nbconvert_exporter": "python",
   "pygments_lexer": "ipython3",
   "version": "3.11.11"
  }
 },
 "nbformat": 4,
 "nbformat_minor": 5
}
